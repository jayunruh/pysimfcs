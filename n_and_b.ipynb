{
 "cells": [
  {
   "cell_type": "markdown",
   "id": "f4bc0c88-ed1a-42f9-83b8-4c483f39148f",
   "metadata": {},
   "source": [
    "### This notebook illustrates number and brightness analysis (N&B)\n",
    "Note that this uses photon counting mode data.  Note that you need to have movie.tif from the sim_movie simulation (or from experimental data) loaded into your workspace.\n",
    "Click here to open in google colab: http://colab.research.google.com/github/jayunruh/pysimfcs/blob/main/n_and_b.ipynb"
   ]
  },
  {
   "cell_type": "code",
   "execution_count": 1,
   "id": "98468e95-8d18-4906-bc48-bb9c4b07672b",
   "metadata": {},
   "outputs": [
    {
     "name": "stdout",
     "output_type": "stream",
     "text": [
      "libraries already downloaded\n"
     ]
    }
   ],
   "source": [
    "#if you are using this from google colab, you need the utility modules\n",
    "#(everything else should already be installed)\n",
    "import os\n",
    "if(not os.path.exists('pysimfcs_utils.py')):\n",
    "    print('downloading pysimfcs libraries')\n",
    "    !wget https://raw.githubusercontent.com/jayunruh/pysimfcs/refs/heads/main/pysimfcs_utils.py\n",
    "if(not os.path.exists('analysis_utils.py')):\n",
    "    !wget https://raw.githubusercontent.com/jayunruh/pysimfcs/refs/heads/main/analysis_utils.py\n",
    "else:\n",
    "    print('libraries already downloaded')"
   ]
  },
  {
   "cell_type": "code",
   "execution_count": 1,
   "id": "46541572-39f4-4953-ba4c-62e288ac1213",
   "metadata": {},
   "outputs": [],
   "source": [
    "import numpy as np\n",
    "import matplotlib.pyplot as plt\n",
    "import tifffile\n",
    "import scipy.ndimage as ndi\n",
    "import analysis_utils as simutils"
   ]
  },
  {
   "cell_type": "code",
   "execution_count": 2,
   "id": "f9595ebd-4473-4ee7-9426-699a49a8f7e3",
   "metadata": {},
   "outputs": [],
   "source": [
    "#get the jet colormap with the under values set to white\n",
    "ncmap=simutils.getncmap()"
   ]
  },
  {
   "cell_type": "code",
   "execution_count": 3,
   "id": "933bd960-389b-401b-bb96-6764dbe2ca5d",
   "metadata": {},
   "outputs": [
    {
     "data": {
      "text/plain": [
       "(256, 2, 64, 64)"
      ]
     },
     "execution_count": 3,
     "metadata": {},
     "output_type": "execute_result"
    }
   ],
   "source": [
    "#read in our simulated movie\n",
    "simstack=tifffile.imread('movie.tif')\n",
    "simstack.shape"
   ]
  },
  {
   "cell_type": "code",
   "execution_count": 4,
   "id": "8afbf5cb-5bf4-45eb-a021-2b3ef4ca0cdb",
   "metadata": {},
   "outputs": [],
   "source": [
    "#here we calculate all of the number and brightness statistic images\n",
    "sms=2 #the smoothing standard deviation\n",
    "thresh=0.0 #the threshold for calculating I and B\n",
    "avg=simstack.mean(axis=0)\n",
    "var=simstack.var(axis=0)\n",
    "covar=simutils.covar(simstack[:,0],simstack[:,1])\n",
    "bright=var/avg-1.0\n",
    "coavg=np.sqrt(avg[0]*avg[1])\n",
    "cobright=covar/coavg\n",
    "mask=avg<thresh #this is a boolean mask image denoting the threshold\n",
    "avg[mask]=np.nan\n",
    "bright[mask]=np.nan\n",
    "coavg[mask[0]]=np.nan\n",
    "cobright[mask[0]]=np.nan\n",
    "#now do the smoothing\n",
    "avgsm=ndi.gaussian_filter(avg,sigma=[0,sms,sms])\n",
    "brightsm=ndi.gaussian_filter(bright,sigma=[0,sms,sms])\n",
    "coavgsm=ndi.gaussian_filter(coavg,sigma=sms)\n",
    "cobrightsm=ndi.gaussian_filter(cobright,sigma=sms)"
   ]
  },
  {
   "cell_type": "code",
   "execution_count": 5,
   "id": "15a9d162-557c-4db2-ad37-80111b7bfb1b",
   "metadata": {},
   "outputs": [
    {
     "name": "stdout",
     "output_type": "stream",
     "text": [
      "max average 18.936328125000003 max brightness 7.7164011368547785\n"
     ]
    }
   ],
   "source": [
    "#get the autoscale information\n",
    "amax=avg.max()*1.1\n",
    "brightmax=bright.max()*1.1\n",
    "print('max average',amax,'max brightness',brightmax)"
   ]
  },
  {
   "cell_type": "code",
   "execution_count": 7,
   "id": "7ee72cf1-0d6e-4037-924a-f2acd6a10e57",
   "metadata": {},
   "outputs": [
    {
     "data": {
      "image/png": "[encoded data removed]",
      "text/plain": [
       "<Figure size 1200x300 with 3 Axes>"
      ]
     },
     "metadata": {},
     "output_type": "display_data"
    }
   ],
   "source": [
    "plotavgmax=amax #change this to change the x dimensions of the histogram\n",
    "plotbrightmax=brightmax #change this to change the y dimensions of the histogram\n",
    "bins=(np.linspace(0,plotavgmax,64),np.linspace(0,plotbrightmax,64))\n",
    "plt.figure(figsize=(12,3))\n",
    "ax=plt.subplot(1,3,1)\n",
    "_=ax.hist2d(avgsm[0].flat,brightsm[0].flat,bins=bins,cmap=ncmap,vmin=1) #note that vmin=1 here allows the zero bins to be white\n",
    "ax.set_ylabel('Brightness')\n",
    "ax=plt.subplot(1,3,2)\n",
    "_=ax.hist2d(avgsm[1].flat,brightsm[1].flat,bins=bins,cmap=ncmap,vmin=1)\n",
    "ax.set_xlabel('Intensity')\n",
    "ax=plt.subplot(1,3,3)\n",
    "_=ax.hist2d(coavgsm.flat,cobrightsm.flat,bins=bins,cmap=ncmap,vmin=1)"
   ]
  },
  {
   "cell_type": "code",
   "execution_count": 9,
   "id": "11f6e6de-cb44-4b54-b898-4f4c60c5249d",
   "metadata": {},
   "outputs": [
    {
     "data": {
      "image/png": "[encoded data removed]",
      "text/html": [
       "<div style=\"vertical-align: middle;\"><strong>jet</strong> </div><div class=\"cmap\"><img alt=\"jet colormap\" title=\"jet\" style=\"border: 1px solid #555;\" src=\"data:image/png;base64,iVBORw0KGgoAAAANSUhEUgAAAgAAAABACAYAAABsv8+/AAAAEnRFWHRUaXRsZQBqZXQgY29sb3JtYXBCuQ5RAAAAGHRFWHREZXNjcmlwdGlvbgBqZXQgY29sb3JtYXBOkXwLAAAAMXRFWHRBdXRob3IATWF0cGxvdGxpYiB2My4xMC4wLCBodHRwczovL21hdHBsb3RsaWIub3Jns5fOBgAAADN0RVh0U29mdHdhcmUATWF0cGxvdGxpYiB2My4xMC4wLCBodHRwczovL21hdHBsb3RsaWIub3JnFrPd8gAAAZxJREFUeJzt1stOAkEQQNHi4Xf74YK6oMdETHThE+85m0pNQ2cSWNzdzP3TzMzM3WXMcb52/yv37uZdR/O25vrbHk9rnmdmZr/m4WVezo9vnq95WHPW52bbr+dnz//rPbf5vtv+4T3ntZ+2+bjmrPPL3K19tnm+2j96/tPf++v3/fJ7PK25fvZ52PbT1b6dz+t5+uL9u+7dDwCQIwAAIEgAAECQAACAIAEAAEECAACCBAAABAkAAAgSAAAQJAAAIEgAAECQAACAIAEAAEECAACCBAAABAkAAAgSAAAQJAAAIEgAAECQAACAIAEAAEECAACCBAAABAkAAAgSAAAQJAAAIEgAAECQAACAIAEAAEECAACCBAAABAkAAAgSAAAQJAAAIEgAAECQAACAIAEAAEECAACCBAAABAkAAAgSAAAQJAAAIEgAAECQAACAIAEAAEECAACCBAAABAkAAAgSAAAQJAAAIEgAAECQAACAIAEAAEECAACCBAAABAkAAAgSAAAQJAAAIEgAAECQAACAIAEAAEECAACCBAAABD0DNdmz/onkAD8AAAAASUVORK5CYII=\"></div><div style=\"vertical-align: middle; max-width: 514px; display: flex; justify-content: space-between;\"><div style=\"float: left;\"><div title=\"#ffffffff\" style=\"display: inline-block; width: 1em; height: 1em; margin: 0; vertical-align: middle; border: 1px solid #555; background-color: #ffffffff;\"></div> under</div><div style=\"margin: 0 auto; display: inline-block;\">bad <div title=\"#00000000\" style=\"display: inline-block; width: 1em; height: 1em; margin: 0; vertical-align: middle; border: 1px solid #555; background-color: #00000000;\"></div></div><div style=\"float: right;\">over <div title=\"#800000ff\" style=\"display: inline-block; width: 1em; height: 1em; margin: 0; vertical-align: middle; border: 1px solid #555; background-color: #800000ff;\"></div></div></div>"
      ],
      "text/plain": [
       "<matplotlib.colors.LinearSegmentedColormap at 0x1423e9210>"
      ]
     },
     "execution_count": 9,
     "metadata": {},
     "output_type": "execute_result"
    }
   ],
   "source": [
    "#show the colormap for reference\n",
    "ncmap"
   ]
  },
  {
   "cell_type": "code",
   "execution_count": null,
   "id": "2f31f4a9-1659-4100-9234-cd5b2be240cd",
   "metadata": {},
   "outputs": [],
   "source": []
  }
 ],
 "metadata": {
  "kernelspec": {
   "display_name": "jayenv",
   "language": "python",
   "name": "jayenv"
  },
  "language_info": {
   "codemirror_mode": {
    "name": "ipython",
    "version": 3
   },
   "file_extension": ".py",
   "mimetype": "text/x-python",
   "name": "python",
   "nbconvert_exporter": "python",
   "pygments_lexer": "ipython3",
   "version": "3.11.11"
  }
 },
 "nbformat": 4,
 "nbformat_minor": 5
}
