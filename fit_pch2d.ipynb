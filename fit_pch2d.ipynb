{
 "cells": [
  {
   "cell_type": "markdown",
   "id": "f1182aa2-de53-4d11-97d1-be6040e2ac04",
   "metadata": {},
   "source": [
    "# This notebook fits 2D PCH histograms\n",
    "Note that you need to have simulation.csv.zip from the sim_fcs simulation (or from experimental data) loaded into your workspace.  Note that 2D PCH calculations become quite slow for large photon counts (>10).\n",
    "Click here to open in google colab: http://colab.research.google.com/github/jayunruh/pysimfcs/blob/main/fit_pch2d.ipynb"
   ]
  },
  {
   "cell_type": "code",
   "execution_count": 1,
   "id": "509fc12a-ef62-4098-93fd-803a4a8300f4",
   "metadata": {},
   "outputs": [],
   "source": [
    "import numpy as np\n",
    "import pandas as pd\n",
    "import matplotlib.pyplot as plt\n",
    "import analysis_utils as simutils\n",
    "import scipy.optimize as so\n",
    "import matplotlib.colors as colors"
   ]
  },
  {
   "cell_type": "code",
   "execution_count": 2,
   "id": "d16b8bee-d6a6-4688-85b4-0b5c9467e0fa",
   "metadata": {},
   "outputs": [],
   "source": [
    "simdf=pd.read_csv('simulation.csv.zip',index_col=0)"
   ]
  },
  {
   "cell_type": "code",
   "execution_count": 3,
   "id": "9eb7a17e-0fac-48d7-81e6-e74afe790589",
   "metadata": {},
   "outputs": [
    {
     "data": {
      "text/html": [
       "<div>\n",
       "<style scoped>\n",
       "    .dataframe tbody tr th:only-of-type {\n",
       "        vertical-align: middle;\n",
       "    }\n",
       "\n",
       "    .dataframe tbody tr th {\n",
       "        vertical-align: top;\n",
       "    }\n",
       "\n",
       "    .dataframe thead th {\n",
       "        text-align: right;\n",
       "    }\n",
       "</style>\n",
       "<table border=\"1\" class=\"dataframe\">\n",
       "  <thead>\n",
       "    <tr style=\"text-align: right;\">\n",
       "      <th></th>\n",
       "      <th>x</th>\n",
       "      <th>ch1</th>\n",
       "      <th>ch2</th>\n",
       "    </tr>\n",
       "  </thead>\n",
       "  <tbody>\n",
       "    <tr>\n",
       "      <th>0</th>\n",
       "      <td>0.00000</td>\n",
       "      <td>0</td>\n",
       "      <td>0</td>\n",
       "    </tr>\n",
       "    <tr>\n",
       "      <th>1</th>\n",
       "      <td>0.00005</td>\n",
       "      <td>1</td>\n",
       "      <td>1</td>\n",
       "    </tr>\n",
       "    <tr>\n",
       "      <th>2</th>\n",
       "      <td>0.00010</td>\n",
       "      <td>3</td>\n",
       "      <td>3</td>\n",
       "    </tr>\n",
       "    <tr>\n",
       "      <th>3</th>\n",
       "      <td>0.00015</td>\n",
       "      <td>3</td>\n",
       "      <td>4</td>\n",
       "    </tr>\n",
       "    <tr>\n",
       "      <th>4</th>\n",
       "      <td>0.00020</td>\n",
       "      <td>1</td>\n",
       "      <td>3</td>\n",
       "    </tr>\n",
       "  </tbody>\n",
       "</table>\n",
       "</div>"
      ],
      "text/plain": [
       "         x  ch1  ch2\n",
       "0  0.00000    0    0\n",
       "1  0.00005    1    1\n",
       "2  0.00010    3    3\n",
       "3  0.00015    3    4\n",
       "4  0.00020    1    3"
      ]
     },
     "execution_count": 3,
     "metadata": {},
     "output_type": "execute_result"
    }
   ],
   "source": [
    "simdf.head()"
   ]
  },
  {
   "cell_type": "code",
   "execution_count": 4,
   "id": "0995f78a-14c7-46e5-9bdb-87e23f93d52b",
   "metadata": {},
   "outputs": [
    {
     "name": "stdout",
     "output_type": "stream",
     "text": [
      "channel1: intensity 0.5734710693359375 brightness 1.0017975298494282 number 0.572442087596414\n",
      "channel2: intensity 0.282196044921875 brightness 0.9317358315939759 number 0.3028713025226318\n",
      "crosscorr: brightness 0.6956138628623066 number 0.5783130460214215\n"
     ]
    }
   ],
   "source": [
    "avgint1=simdf['ch1'].mean()\n",
    "nbbright1=simutils.var(simdf['ch1'])/avgint1-1\n",
    "nbnum1=avgint1/nbbright1\n",
    "avgint2=simdf['ch2'].mean()\n",
    "nbbright2=simutils.var(simdf['ch2'])/avgint2-1\n",
    "nbnum2=avgint2/nbbright2\n",
    "avgintcc=np.sqrt(simdf['ch1'].mean()*simdf['ch2'].mean())\n",
    "nbbrightcc=simutils.covar(simdf['ch1'],simdf['ch2'])/avgintcc\n",
    "nbnumcc=avgintcc/nbbrightcc\n",
    "gval=0.3536\n",
    "print('channel1:','intensity',avgint1,'brightness',nbbright1/gval,'number',nbnum1*gval)\n",
    "print('channel2:','intensity',avgint2,'brightness',nbbright2/gval,'number',nbnum2*gval)\n",
    "print('crosscorr:','brightness',nbbrightcc/gval,'number',nbnumcc*gval)"
   ]
  },
  {
   "cell_type": "code",
   "execution_count": 5,
   "id": "e69c30c8-2697-47ce-a8e5-121628fff616",
   "metadata": {},
   "outputs": [],
   "source": [
    "simutils.pch2dsizes=[10,10] #this is important to tell the fitting class our dimensions\n",
    "pch2d,xvals,yvals=np.histogram2d(simdf['ch1'],simdf['ch2'],bins=[np.arange(11),np.arange(11)])\n",
    "normpch2d=pch2d.astype(float)\n",
    "totint=normpch2d.sum()\n",
    "normpch2d/=totint\n",
    "xvals=xvals[:-1]\n",
    "yvals=yvals[:-1]"
   ]
  },
  {
   "cell_type": "code",
   "execution_count": 6,
   "id": "21b7f279-05ae-49a1-b0b3-f813f5f98dc8",
   "metadata": {},
   "outputs": [
    {
     "data": {
      "image/png": "[encoded data removed]",
      "text/plain": [
       "<Figure size 640x480 with 2 Axes>"
      ]
     },
     "metadata": {},
     "output_type": "display_data"
    }
   ],
   "source": [
    "plt.imshow(normpch2d, norm=colors.LogNorm(vmin=0.00001, vmax=1.0), cmap='jet')\n",
    "plt.colorbar()\n",
    "plt.show()"
   ]
  },
  {
   "cell_type": "code",
   "execution_count": 7,
   "id": "8f25ff5e-eb41-4ba3-a798-a1a1c1b481af",
   "metadata": {},
   "outputs": [],
   "source": [
    "gparams=[0.0, 0.0, 1.0, 1.0, 0.7,0.0,1.0,0.5]\n",
    "#gparams=[0.0, 0.0, 0.1, 0.1, 0.5,0.1,0.1,0.5]"
   ]
  },
  {
   "cell_type": "code",
   "execution_count": 8,
   "id": "fa766129-2068-433f-a279-0e62528732ab",
   "metadata": {},
   "outputs": [],
   "source": [
    "fitxvals=np.arange(np.prod(pch2d.shape))\n",
    "pchsim=simutils.pchfunc2d(fitxvals,*gparams).reshape(pch2d.shape)"
   ]
  },
  {
   "cell_type": "code",
   "execution_count": 10,
   "id": "d3f1ad4b-3583-4f86-93aa-9bf5d579c9df",
   "metadata": {},
   "outputs": [
    {
     "data": {
      "image/png": "[encoded data removed]",
      "text/plain": [
       "<Figure size 640x480 with 2 Axes>"
      ]
     },
     "metadata": {},
     "output_type": "display_data"
    }
   ],
   "source": [
    "plt.imshow(pchsim, norm=colors.LogNorm(vmin=0.00001, vmax=1.0), cmap='jet')\n",
    "plt.colorbar()\n",
    "plt.show()"
   ]
  },
  {
   "cell_type": "code",
   "execution_count": 11,
   "id": "888ce296-a16c-469c-b9bb-26d006be72f9",
   "metadata": {},
   "outputs": [],
   "source": [
    "weights=simutils.getpchweights(pch2d.flatten())"
   ]
  },
  {
   "cell_type": "code",
   "execution_count": 12,
   "id": "5b22f33f-16b9-4633-8b64-7423dad09206",
   "metadata": {},
   "outputs": [],
   "source": [
    "#params are backa, backb, brighta1,brightb1,n1,...\n",
    "#where a and b are the channels and 1... is the species\n",
    "guessparams=[0.0, 0.0, 1.0, 1.0, 0.7,0.0,1.0,0.5]\n",
    "ulims=[0.001,0.001,4.0,4.0,2.0,4.0,4.0,2.0]\n",
    "llims=[0.0,0.0,0.0,0.0,0.0,0.0,0.0,0.0]"
   ]
  },
  {
   "cell_type": "code",
   "execution_count": 13,
   "id": "aa44a1eb-2519-4c1a-a2d4-66afdb96bb4f",
   "metadata": {},
   "outputs": [
    {
     "name": "stdout",
     "output_type": "stream",
     "text": [
      "[1.00000000e-03 3.67545828e-14 9.84355351e-01 1.81306446e-02\n",
      " 2.99102336e-01 9.75989707e-01 9.80718189e-01 2.83148892e-01]\n"
     ]
    }
   ],
   "source": [
    "fparams,fcov=so.curve_fit(simutils.pchfunc2d,fitxvals,normpch2d.flatten(),\n",
    "             p0=guessparams,sigma=1.0/weights,bounds=(llims,ulims),method='trf')\n",
    "print(fparams)\n",
    "fit=simutils.pchfunc2d(fitxvals,*fparams).reshape(normpch2d.shape)"
   ]
  },
  {
   "cell_type": "code",
   "execution_count": 14,
   "id": "04f96659-5d45-4f97-82cf-27df6ebb4d64",
   "metadata": {},
   "outputs": [
    {
     "data": {
      "image/png": "[encoded data removed]",
      "text/plain": [
       "<Figure size 640x480 with 2 Axes>"
      ]
     },
     "metadata": {},
     "output_type": "display_data"
    }
   ],
   "source": [
    "plt.imshow(fit, norm=colors.LogNorm(vmin=0.00001, vmax=1.0), cmap='jet')\n",
    "plt.colorbar()\n",
    "plt.show()"
   ]
  },
  {
   "cell_type": "code",
   "execution_count": null,
   "id": "95890f12-0596-48ee-8326-25c860ac6808",
   "metadata": {},
   "outputs": [],
   "source": []
  }
 ],
 "metadata": {
  "kernelspec": {
   "display_name": "jayenv",
   "language": "python",
   "name": "jayenv"
  },
  "language_info": {
   "codemirror_mode": {
    "name": "ipython",
    "version": 3
   },
   "file_extension": ".py",
   "mimetype": "text/x-python",
   "name": "python",
   "nbconvert_exporter": "python",
   "pygments_lexer": "ipython3",
   "version": "3.11.11"
  }
 },
 "nbformat": 4,
 "nbformat_minor": 5
}
