{
 "cells": [
  {
   "cell_type": "code",
   "execution_count": 1,
   "id": "509fc12a-ef62-4098-93fd-803a4a8300f4",
   "metadata": {},
   "outputs": [],
   "source": [
    "import numpy as np\n",
    "import pandas as pd\n",
    "import matplotlib.pyplot as plt\n",
    "import analysis_utils as simutils\n",
    "import scipy.optimize as so\n",
    "import matplotlib.colors as colors"
   ]
  },
  {
   "cell_type": "code",
   "execution_count": 2,
   "id": "d16b8bee-d6a6-4688-85b4-0b5c9467e0fa",
   "metadata": {},
   "outputs": [],
   "source": [
    "simdf=pd.read_csv('simulation.csv.zip',index_col=0)"
   ]
  },
  {
   "cell_type": "code",
   "execution_count": 3,
   "id": "9eb7a17e-0fac-48d7-81e6-e74afe790589",
   "metadata": {},
   "outputs": [
    {
     "data": {
      "text/html": [
       "<div>\n",
       "<style scoped>\n",
       "    .dataframe tbody tr th:only-of-type {\n",
       "        vertical-align: middle;\n",
       "    }\n",
       "\n",
       "    .dataframe tbody tr th {\n",
       "        vertical-align: top;\n",
       "    }\n",
       "\n",
       "    .dataframe thead th {\n",
       "        text-align: right;\n",
       "    }\n",
       "</style>\n",
       "<table border=\"1\" class=\"dataframe\">\n",
       "  <thead>\n",
       "    <tr style=\"text-align: right;\">\n",
       "      <th></th>\n",
       "      <th>x</th>\n",
       "      <th>ch1</th>\n",
       "      <th>ch2</th>\n",
       "    </tr>\n",
       "  </thead>\n",
       "  <tbody>\n",
       "    <tr>\n",
       "      <th>0</th>\n",
       "      <td>0.00000</td>\n",
       "      <td>1</td>\n",
       "      <td>1</td>\n",
       "    </tr>\n",
       "    <tr>\n",
       "      <th>1</th>\n",
       "      <td>0.00005</td>\n",
       "      <td>2</td>\n",
       "      <td>1</td>\n",
       "    </tr>\n",
       "    <tr>\n",
       "      <th>2</th>\n",
       "      <td>0.00010</td>\n",
       "      <td>4</td>\n",
       "      <td>3</td>\n",
       "    </tr>\n",
       "    <tr>\n",
       "      <th>3</th>\n",
       "      <td>0.00015</td>\n",
       "      <td>7</td>\n",
       "      <td>6</td>\n",
       "    </tr>\n",
       "    <tr>\n",
       "      <th>4</th>\n",
       "      <td>0.00020</td>\n",
       "      <td>4</td>\n",
       "      <td>7</td>\n",
       "    </tr>\n",
       "  </tbody>\n",
       "</table>\n",
       "</div>"
      ],
      "text/plain": [
       "         x  ch1  ch2\n",
       "0  0.00000    1    1\n",
       "1  0.00005    2    1\n",
       "2  0.00010    4    3\n",
       "3  0.00015    7    6\n",
       "4  0.00020    4    7"
      ]
     },
     "execution_count": 3,
     "metadata": {},
     "output_type": "execute_result"
    }
   ],
   "source": [
    "simdf.head()"
   ]
  },
  {
   "cell_type": "code",
   "execution_count": 4,
   "id": "0995f78a-14c7-46e5-9bdb-87e23f93d52b",
   "metadata": {},
   "outputs": [
    {
     "name": "stdout",
     "output_type": "stream",
     "text": [
      "channel1: intensity 2.8990554809570312 brightness 4.860742025216155 number 0.5964224116230714\n",
      "channel2: intensity 1.3904190063476562 brightness 4.773779370334652 number 0.29126168146522136\n",
      "crosscorr: brightness 3.271067023082959 number 0.6137784957631637\n"
     ]
    }
   ],
   "source": [
    "avgint1=simdf['ch1'].mean()\n",
    "nbbright1=simutils.var(simdf['ch1'])/avgint1-1\n",
    "nbnum1=avgint1/nbbright1\n",
    "avgint2=simdf['ch2'].mean()\n",
    "nbbright2=simutils.var(simdf['ch2'])/avgint2-1\n",
    "nbnum2=avgint2/nbbright2\n",
    "avgintcc=np.sqrt(simdf['ch1'].mean()*simdf['ch2'].mean())\n",
    "nbbrightcc=simutils.covar(simdf['ch1'],simdf['ch2'])/avgintcc\n",
    "nbnumcc=avgintcc/nbbrightcc\n",
    "gval=0.3536\n",
    "print('channel1:','intensity',avgint1,'brightness',nbbright1/gval,'number',nbnum1*gval)\n",
    "print('channel2:','intensity',avgint2,'brightness',nbbright2/gval,'number',nbnum2*gval)\n",
    "print('crosscorr:','brightness',nbbrightcc/gval,'number',nbnumcc*gval)"
   ]
  },
  {
   "cell_type": "code",
   "execution_count": 5,
   "id": "e69c30c8-2697-47ce-a8e5-121628fff616",
   "metadata": {},
   "outputs": [],
   "source": [
    "simutils.pch2dsizes=[24,24] #this is important to tell the fitting class our dimensions\n",
    "pch2d,xvals,yvals=np.histogram2d(simdf['ch1'],simdf['ch2'],bins=[np.arange(25),np.arange(25)])\n",
    "normpch2d=pch2d.astype(float)\n",
    "totint=normpch2d.sum()\n",
    "normpch2d/=totint\n",
    "xvals=xvals[:-1]\n",
    "yvals=yvals[:-1]"
   ]
  },
  {
   "cell_type": "code",
   "execution_count": 6,
   "id": "21b7f279-05ae-49a1-b0b3-f813f5f98dc8",
   "metadata": {},
   "outputs": [
    {
     "data": {
      "image/png": "[encoded data removed]",
      "text/plain": [
       "<Figure size 640x480 with 2 Axes>"
      ]
     },
     "metadata": {},
     "output_type": "display_data"
    }
   ],
   "source": [
    "plt.imshow(normpch2d, norm=colors.LogNorm(vmin=0.00001, vmax=1.0), cmap='jet')\n",
    "plt.colorbar()\n",
    "plt.show()"
   ]
  },
  {
   "cell_type": "code",
   "execution_count": 7,
   "id": "8f25ff5e-eb41-4ba3-a798-a1a1c1b481af",
   "metadata": {},
   "outputs": [],
   "source": [
    "gparams=[0.01, 0.01, 3.73510993, 1.48320812, 0.70011231,0.0,2.0,0.5]"
   ]
  },
  {
   "cell_type": "code",
   "execution_count": 8,
   "id": "fa766129-2068-433f-a279-0e62528732ab",
   "metadata": {},
   "outputs": [],
   "source": [
    "fitxvals=np.arange(np.prod(pch2d.shape))\n",
    "pchsim=simutils.pchfunc2d(fitxvals,*gparams).reshape(pch2d.shape)"
   ]
  },
  {
   "cell_type": "code",
   "execution_count": 9,
   "id": "d3f1ad4b-3583-4f86-93aa-9bf5d579c9df",
   "metadata": {},
   "outputs": [
    {
     "data": {
      "image/png": "[encoded data removed]",
      "text/plain": [
       "<Figure size 640x480 with 2 Axes>"
      ]
     },
     "metadata": {},
     "output_type": "display_data"
    }
   ],
   "source": [
    "plt.imshow(pchsim, norm=colors.LogNorm(vmin=0.00001, vmax=1.0), cmap='jet')\n",
    "plt.colorbar()\n",
    "plt.show()"
   ]
  },
  {
   "cell_type": "code",
   "execution_count": 10,
   "id": "888ce296-a16c-469c-b9bb-26d006be72f9",
   "metadata": {},
   "outputs": [],
   "source": [
    "weights=simutils.getpchweights(pch2d.flatten())"
   ]
  },
  {
   "cell_type": "code",
   "execution_count": 11,
   "id": "5b22f33f-16b9-4633-8b64-7423dad09206",
   "metadata": {},
   "outputs": [],
   "source": [
    "guessparams=[0.0,0.0,2.0,2.0,0.6,0.0,2.0,0.5]\n",
    "ulims=[0.01,0.01,10.0,10.0,5.0,10.0,10.0,5.0]\n",
    "llims=[0.0,0.0,0.1,0.1,0.1,0.0,0.0,0.1]"
   ]
  },
  {
   "cell_type": "code",
   "execution_count": 12,
   "id": "aa44a1eb-2519-4c1a-a2d4-66afdb96bb4f",
   "metadata": {},
   "outputs": [
    {
     "name": "stdout",
     "output_type": "stream",
     "text": [
      "[1.00000000e-02 1.00000000e-02 4.06256867e+00 1.00000000e-01\n",
      " 5.21102586e-01 1.88396339e-11 6.00253761e+00 2.29640960e-01]\n"
     ]
    },
    {
     "name": "stderr",
     "output_type": "stream",
     "text": [
      "/Users/jru/Documents/IPython_Notebooks/pysimfcs/analysis_utils.py:164: RuntimeWarning: invalid value encountered in scalar divide\n",
      "  return integral*(2.0**1.5)/(np.sqrt(np.pi)*ss.factorial(k))\n",
      "/Users/jru/Documents/IPython_Notebooks/pysimfcs/analysis_utils.py:130: RuntimeWarning: invalid value encountered in scalar multiply\n",
      "  return ss.factorial(counts-1)*(1.0-np.exp(-x)*gval)\n"
     ]
    },
    {
     "ename": "IndexError",
     "evalue": "list index out of range",
     "output_type": "error",
     "traceback": [
      "\u001b[0;31m---------------------------------------------------------------------------\u001b[0m",
      "\u001b[0;31mIndexError\u001b[0m                                Traceback (most recent call last)",
      "Cell \u001b[0;32mIn[12], line 4\u001b[0m\n\u001b[1;32m      1\u001b[0m fparams,fcov\u001b[38;5;241m=\u001b[39mso\u001b[38;5;241m.\u001b[39mcurve_fit(simutils\u001b[38;5;241m.\u001b[39mpchfunc2d,fitxvals,normpch2d\u001b[38;5;241m.\u001b[39mflatten(),\n\u001b[1;32m      2\u001b[0m              p0\u001b[38;5;241m=\u001b[39mguessparams,sigma\u001b[38;5;241m=\u001b[39m\u001b[38;5;241m1.0\u001b[39m\u001b[38;5;241m/\u001b[39mweights,bounds\u001b[38;5;241m=\u001b[39m(llims,ulims),method\u001b[38;5;241m=\u001b[39m\u001b[38;5;124m'\u001b[39m\u001b[38;5;124mtrf\u001b[39m\u001b[38;5;124m'\u001b[39m)\n\u001b[1;32m      3\u001b[0m \u001b[38;5;28mprint\u001b[39m(fparams)\n\u001b[0;32m----> 4\u001b[0m fit\u001b[38;5;241m=\u001b[39m\u001b[43msimutils\u001b[49m\u001b[38;5;241;43m.\u001b[39;49m\u001b[43mpchfunc\u001b[49m\u001b[43m(\u001b[49m\u001b[43mfitxvals\u001b[49m\u001b[43m,\u001b[49m\u001b[38;5;241;43m*\u001b[39;49m\u001b[43mfparams\u001b[49m\u001b[43m)\u001b[49m\u001b[38;5;241m.\u001b[39mreshape(normpch2d\u001b[38;5;241m.\u001b[39mshape)\n",
      "File \u001b[0;32m~/Documents/IPython_Notebooks/pysimfcs/analysis_utils.py:242\u001b[0m, in \u001b[0;36mpchfunc\u001b[0;34m(xvals, *params)\u001b[0m\n\u001b[1;32m    240\u001b[0m numbers\u001b[38;5;241m=\u001b[39m[params[i] \u001b[38;5;28;01mfor\u001b[39;00m i \u001b[38;5;129;01min\u001b[39;00m \u001b[38;5;28mrange\u001b[39m(\u001b[38;5;241m2\u001b[39m,\u001b[38;5;28mlen\u001b[39m(params),\u001b[38;5;241m2\u001b[39m)]\n\u001b[1;32m    241\u001b[0m klength\u001b[38;5;241m=\u001b[39m\u001b[38;5;28mint\u001b[39m(\u001b[38;5;28mlen\u001b[39m(xvals)\u001b[38;5;241m*\u001b[39m\u001b[38;5;241m1.5\u001b[39m)\u001b[38;5;241m+\u001b[39m\u001b[38;5;241m1\u001b[39m\n\u001b[0;32m--> 242\u001b[0m \u001b[38;5;28;01mreturn\u001b[39;00m \u001b[43mgetpch\u001b[49m\u001b[43m(\u001b[49m\u001b[43mbrightnesses\u001b[49m\u001b[43m,\u001b[49m\u001b[43mnumbers\u001b[49m\u001b[43m,\u001b[49m\u001b[43mparams\u001b[49m\u001b[43m[\u001b[49m\u001b[38;5;241;43m0\u001b[39;49m\u001b[43m]\u001b[49m\u001b[43m,\u001b[49m\u001b[43mklength\u001b[49m\u001b[38;5;241;43m=\u001b[39;49m\u001b[43mklength\u001b[49m\u001b[43m,\u001b[49m\u001b[43mpsftype\u001b[49m\u001b[38;5;241;43m=\u001b[39;49m\u001b[43mpsftype\u001b[49m\u001b[43m)\u001b[49m[:\u001b[38;5;28mlen\u001b[39m(xvals)]\n",
      "File \u001b[0;32m~/Documents/IPython_Notebooks/pysimfcs/analysis_utils.py:226\u001b[0m, in \u001b[0;36mgetpch\u001b[0;34m(brightnesses, numbers, background, klength, psftype)\u001b[0m\n\u001b[1;32m    224\u001b[0m pch\u001b[38;5;241m=\u001b[39msinglespecies(brightnesses[\u001b[38;5;241m0\u001b[39m],numbers[\u001b[38;5;241m0\u001b[39m],klength\u001b[38;5;241m=\u001b[39mklength,psftype\u001b[38;5;241m=\u001b[39mpsftype)\n\u001b[1;32m    225\u001b[0m \u001b[38;5;28;01mfor\u001b[39;00m i \u001b[38;5;129;01min\u001b[39;00m \u001b[38;5;28mrange\u001b[39m(\u001b[38;5;241m1\u001b[39m,\u001b[38;5;28mlen\u001b[39m(brightnesses)):\n\u001b[0;32m--> 226\u001b[0m     tpch\u001b[38;5;241m=\u001b[39msinglespecies(brightnesses[i],\u001b[43mnumbers\u001b[49m\u001b[43m[\u001b[49m\u001b[43mi\u001b[49m\u001b[43m]\u001b[49m,klength\u001b[38;5;241m=\u001b[39mklength,psftype\u001b[38;5;241m=\u001b[39mpsftype)\n\u001b[1;32m    227\u001b[0m     pch\u001b[38;5;241m=\u001b[39mconvolve(pch,tpch)\n\u001b[1;32m    228\u001b[0m \u001b[38;5;28;01mif\u001b[39;00m(background\u001b[38;5;241m!=\u001b[39m\u001b[38;5;241m0.0\u001b[39m):\n",
      "\u001b[0;31mIndexError\u001b[0m: list index out of range"
     ]
    }
   ],
   "source": [
    "fparams,fcov=so.curve_fit(simutils.pchfunc2d,fitxvals,normpch2d.flatten(),\n",
    "             p0=guessparams,sigma=1.0/weights,bounds=(llims,ulims),method='trf')\n",
    "print(fparams)\n",
    "fit=simutils.pchfunc(fitxvals,*fparams).reshape(normpch2d.shape)"
   ]
  },
  {
   "cell_type": "code",
   "execution_count": null,
   "id": "0f6950f7-ac72-4c9e-9761-c924d7e5d584",
   "metadata": {},
   "outputs": [],
   "source": []
  },
  {
   "cell_type": "code",
   "execution_count": null,
   "id": "04f96659-5d45-4f97-82cf-27df6ebb4d64",
   "metadata": {},
   "outputs": [],
   "source": [
    "plt.imshow(fit, norm=colors.LogNorm(vmin=0.00001, vmax=1.0), cmap='jet')\n",
    "plt.colorbar()\n",
    "plt.show()"
   ]
  },
  {
   "cell_type": "code",
   "execution_count": null,
   "id": "95890f12-0596-48ee-8326-25c860ac6808",
   "metadata": {},
   "outputs": [],
   "source": []
  }
 ],
 "metadata": {
  "kernelspec": {
   "display_name": "jayenv",
   "language": "python",
   "name": "jayenv"
  },
  "language_info": {
   "codemirror_mode": {
    "name": "ipython",
    "version": 3
   },
   "file_extension": ".py",
   "mimetype": "text/x-python",
   "name": "python",
   "nbconvert_exporter": "python",
   "pygments_lexer": "ipython3",
   "version": "3.11.11"
  }
 },
 "nbformat": 4,
 "nbformat_minor": 5
}
