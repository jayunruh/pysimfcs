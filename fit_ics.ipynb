{
 "cells": [
  {
   "cell_type": "markdown",
   "id": "27bd90d0-0171-4034-b19c-a4f0592e22df",
   "metadata": {},
   "source": [
    "# This notebook fits the ICS correlation function to a simple Gaussian\n",
    "Note that you need to have moviecorr.tif from the sim_movie simulation (or from experimental data) loaded into your workspace.\n",
    "Click here to open in google colab: http://colab.research.google.com/github/jayunruh/pysimfcs/blob/main/fit_ics.ipynb"
   ]
  },
  {
   "cell_type": "code",
   "execution_count": 1,
   "id": "b29fde5d-3f30-41b9-8e67-6f9a6d6308b9",
   "metadata": {},
   "outputs": [
    {
     "name": "stdout",
     "output_type": "stream",
     "text": [
      "libraries already downloaded\n"
     ]
    }
   ],
   "source": [
    "#if you are using this from google colab, you need the utility modules\n",
    "#(everything else should already be installed)\n",
    "import os\n",
    "if(not os.path.exists('pysimfcs_utils.py')):\n",
    "    print('downloading pysimfcs libraries')\n",
    "    !wget https://raw.githubusercontent.com/jayunruh/pysimfcs/refs/heads/main/pysimfcs_utils.py\n",
    "if(not os.path.exists('analysis_utils.py')):\n",
    "    !wget https://raw.githubusercontent.com/jayunruh/pysimfcs/refs/heads/main/analysis_utils.py\n",
    "else:\n",
    "    print('libraries already downloaded')"
   ]
  },
  {
   "cell_type": "code",
   "execution_count": 2,
   "id": "56c59bb9-35a5-4f01-9437-a0a509ea7003",
   "metadata": {},
   "outputs": [],
   "source": [
    "import numpy as np\n",
    "import matplotlib.pyplot as plt\n",
    "import analysis_utils as simutils\n",
    "import pandas as pd\n",
    "import scipy.optimize as so\n",
    "import tifffile"
   ]
  },
  {
   "cell_type": "code",
   "execution_count": 3,
   "id": "2b254787-5497-4580-8b46-7bb37b386ac5",
   "metadata": {},
   "outputs": [
    {
     "name": "stdout",
     "output_type": "stream",
     "text": [
      "32\n"
     ]
    },
    {
     "data": {
      "text/plain": [
       "(3, 32, 32)"
      ]
     },
     "execution_count": 3,
     "metadata": {},
     "output_type": "execute_result"
    }
   ],
   "source": [
    "#first read in the correlation images\n",
    "corr=tifffile.imread('moviecorr.tif')\n",
    "#crop the correlation to the central 32 pixels\n",
    "halfsize=corr.shape[-1]//2\n",
    "print(halfsize)\n",
    "corr=corr[:,halfsize-16:halfsize+16,halfsize-16:halfsize+16]\n",
    "corr.shape"
   ]
  },
  {
   "cell_type": "code",
   "execution_count": 4,
   "id": "8490597b-2c00-4c86-8729-a00c12e2c94e",
   "metadata": {},
   "outputs": [
    {
     "data": {
      "text/plain": [
       "<matplotlib.image.AxesImage at 0x17d135b90>"
      ]
     },
     "execution_count": 4,
     "metadata": {},
     "output_type": "execute_result"
    },
    {
     "data": {
      "image/png": "[encoded data removed]",
      "text/plain": [
       "<Figure size 640x480 with 1 Axes>"
      ]
     },
     "metadata": {},
     "output_type": "display_data"
    }
   ],
   "source": [
    "plt.imshow(corr[0])"
   ]
  },
  {
   "cell_type": "code",
   "execution_count": 5,
   "id": "c370beba-b536-4086-af09-c5e0ae92453c",
   "metadata": {},
   "outputs": [
    {
     "name": "stdout",
     "output_type": "stream",
     "text": [
      "background estimate 0.009276606646728226\n",
      "g0 estimate 0.14223161221478423\n"
     ]
    }
   ],
   "source": [
    "base=0.5*(corr[0,0].mean()+corr[0,-1].mean())\n",
    "print('background estimate',base)\n",
    "g0=corr[0].max()-base\n",
    "print('g0 estimate',g0)"
   ]
  },
  {
   "cell_type": "code",
   "execution_count": 11,
   "id": "fc0cef54-2e45-41e5-b07f-fc5635fd63cd",
   "metadata": {},
   "outputs": [],
   "source": [
    "#set up the metadata and the initial fitting parameters\n",
    "simutils.centerx=16\n",
    "simutils.centery=16\n",
    "simutils.fitxpts=32\n",
    "simutils.fitypts=32\n",
    "#parameters are baseline,G0,w0\n",
    "gparams=[0.0,0.15,3.4]\n",
    "llims=[gparams[0]-0.5,gparams[1]/3.0,gparams[2]/3.0]\n",
    "ulims=[gparams[0]+0.5,gparams[1]*3.0,gparams[2]*3.0]\n",
    "#make the xvalues (repeated x axis)\n",
    "fitxvals=np.tile(np.arange(32),32)\n",
    "profiles=corr[0].flatten()"
   ]
  },
  {
   "cell_type": "code",
   "execution_count": 12,
   "id": "5cabb239-8359-4bfd-aac2-c054a536f3e8",
   "metadata": {},
   "outputs": [],
   "source": [
    "fparams,fcov=so.curve_fit(simutils.gausfunc,fitxvals,profiles,\n",
    "             p0=gparams,bounds=(llims,ulims),method='trf')\n",
    "\n",
    "#the standard error methods utilizes the square root of the diagonal of the covariance matrix\n",
    "ferrs=np.sqrt(np.diag(fcov))\n",
    "#now get the fit from the optimized parameters\n",
    "fit=simutils.gausfunc(fitxvals,*fparams)\n",
    "#and get the chi squared value\n",
    "rchi2=((profiles-fit)**2).sum()/(len(profiles)-len(gparams))"
   ]
  },
  {
   "cell_type": "code",
   "execution_count": 13,
   "id": "bc66b0dc-9a89-4469-80de-f6d98649120e",
   "metadata": {},
   "outputs": [
    {
     "name": "stdout",
     "output_type": "stream",
     "text": [
      "Here are the best fit parameters:\n",
      "[-2.78374374e-03  1.68712698e-01  2.99532363e+00]\n",
      "Here are the errors (based on covariance):\n",
      "[0.00028293 0.00321747 0.04162264]\n"
     ]
    }
   ],
   "source": [
    "print('Here are the best fit parameters:')\n",
    "print(fparams)\n",
    "print('Here are the errors (based on covariance):')\n",
    "print(ferrs)"
   ]
  },
  {
   "cell_type": "code",
   "execution_count": 14,
   "id": "080cb790-c8d1-4922-81b4-12f0fdc535d3",
   "metadata": {},
   "outputs": [],
   "source": [
    "#now reshape the fit into an image\n",
    "fitimg=fit.reshape((32,32))"
   ]
  },
  {
   "cell_type": "code",
   "execution_count": 15,
   "id": "e2177a1a-eb15-41a6-8e6e-dfcc6cc13297",
   "metadata": {},
   "outputs": [
    {
     "data": {
      "text/plain": [
       "Text(0.5, 1.0, 'residuals')"
      ]
     },
     "execution_count": 15,
     "metadata": {},
     "output_type": "execute_result"
    },
    {
     "data": {
      "image/png": "[encoded data removed]",
      "text/plain": [
       "<Figure size 800x300 with 3 Axes>"
      ]
     },
     "metadata": {},
     "output_type": "display_data"
    }
   ],
   "source": [
    "plt.figure(figsize=(8,3))\n",
    "ax=plt.subplot(1,3,1)\n",
    "ax.imshow(corr[0],vmin=0,vmax=1.1*fparams[1])\n",
    "ax.set_title('correlation')\n",
    "ax=plt.subplot(1,3,2)\n",
    "ax.imshow(fitimg,vmin=0,vmax=1.1*fparams[1])\n",
    "ax.set_title('fit')\n",
    "ax=plt.subplot(1,3,3)\n",
    "ax.imshow(corr[0]-fitimg,vmin=0,vmax=1.1*fparams[1])\n",
    "ax.set_title('residuals')"
   ]
  },
  {
   "cell_type": "code",
   "execution_count": null,
   "id": "e4530ffc-d3de-45f7-977d-be37993ad52c",
   "metadata": {},
   "outputs": [],
   "source": []
  }
 ],
 "metadata": {
  "kernelspec": {
   "display_name": "jayenv",
   "language": "python",
   "name": "jayenv"
  },
  "language_info": {
   "codemirror_mode": {
    "name": "ipython",
    "version": 3
   },
   "file_extension": ".py",
   "mimetype": "text/x-python",
   "name": "python",
   "nbconvert_exporter": "python",
   "pygments_lexer": "ipython3",
   "version": "3.11.11"
  }
 },
 "nbformat": 4,
 "nbformat_minor": 5
}
