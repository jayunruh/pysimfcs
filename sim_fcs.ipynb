{
 "cells": [
  {
   "cell_type": "code",
   "execution_count": 1,
   "id": "2d5a7d3c-7ea4-4669-9cd7-886e75ace1e7",
   "metadata": {},
   "outputs": [],
   "source": [
    "#here we set up and run a diffusion simulation"
   ]
  },
  {
   "cell_type": "code",
   "execution_count": 2,
   "id": "b24d74b7-1f0b-4913-8a4c-d73aeda5d46b",
   "metadata": {},
   "outputs": [],
   "source": [
    "import numpy as np\n",
    "import matplotlib.pyplot as plt\n",
    "import pysimfcs_utils as simutils\n",
    "import analysis_utils as autils\n",
    "#from tqdm.notebook import tqdm\n",
    "import pandas as pd"
   ]
  },
  {
   "cell_type": "code",
   "execution_count": 3,
   "id": "e7bc6eae-f83e-4663-ac43-b43dd25f9506",
   "metadata": {},
   "outputs": [],
   "source": [
    "#each species is described by number of particles, diffusion coefficient, and a brightness array (length 2?)\n",
    "#simspecies=[{'N':200,'D':10.0,'B':[100000.0]}]\n",
    "simspecies=[{'N':200,'D':10.0,'B':[100000.0,100000.0]},\n",
    "           {'N':200,'D':10.0,'B':[100000.0,0.0]}]"
   ]
  },
  {
   "cell_type": "code",
   "execution_count": 4,
   "id": "df1e4e07-7101-4d66-b579-234509a6b284",
   "metadata": {},
   "outputs": [],
   "source": [
    "#the simulation settings are boxsize (microns), boxpixels, w0 (2 sigma psf)\n",
    "#zratio (z0/w0), nframes, frametime (us), background (array of cps), dims (active dimensions)\n",
    "#mode--point, raster_line, raster_image, and image\n",
    "simsettings={'boxsize':3.2,'boxpixels':64,'w0':0.17,'zratio':5,'nframes':2**17,\n",
    "             'frametime':50.0,'background':[100.0,100.0],'dims':[True,True,True],\n",
    "             'mode':'point','boundarytype':'periodic','noisemode':'poisson'}"
   ]
  },
  {
   "cell_type": "code",
   "execution_count": 5,
   "id": "71866743-cf3f-49cc-8a8a-5522da1b49f0",
   "metadata": {},
   "outputs": [],
   "source": [
    "ssimsettings=simutils.scaleSimSettings(simsettings)\n",
    "ssimspecies=simutils.scaleSimSpecies(simsettings,simspecies)"
   ]
  },
  {
   "cell_type": "code",
   "execution_count": 6,
   "id": "cd280e11-839b-44ff-9bb7-fb9b31c62666",
   "metadata": {},
   "outputs": [
    {
     "data": {
      "text/plain": [
       "{'boxsize': 3.2,\n",
       " 'boxpixels': 64,\n",
       " 'w0': 3.4,\n",
       " 'zratio': 5,\n",
       " 'nframes': 131072,\n",
       " 'frametime': 50.0,\n",
       " 'background': [0.004999999999999999, 0.004999999999999999],\n",
       " 'dims': [True, True, True],\n",
       " 'mode': 'point',\n",
       " 'boundarytype': 'periodic',\n",
       " 'noisemode': 'poisson'}"
      ]
     },
     "execution_count": 6,
     "metadata": {},
     "output_type": "execute_result"
    }
   ],
   "source": [
    "ssimsettings"
   ]
  },
  {
   "cell_type": "code",
   "execution_count": 7,
   "id": "6b9f9672-2d5f-47fe-b083-b0de25eabfa2",
   "metadata": {},
   "outputs": [
    {
     "data": {
      "text/plain": [
       "[{'N': 200, 'D': 0.19999999999999996, 'B': [5.0, 5.0]},\n",
       " {'N': 200, 'D': 0.19999999999999996, 'B': [5.0, 0.0]}]"
      ]
     },
     "execution_count": 7,
     "metadata": {},
     "output_type": "execute_result"
    }
   ],
   "source": [
    "ssimspecies"
   ]
  },
  {
   "cell_type": "code",
   "execution_count": 8,
   "id": "1d8d0582-2927-45ea-ad4c-821218fa00f9",
   "metadata": {},
   "outputs": [
    {
     "data": {
      "text/plain": [
       "[32.0, 32.0, 32.0]"
      ]
     },
     "execution_count": 8,
     "metadata": {},
     "output_type": "execute_result"
    }
   ],
   "source": [
    "mpos=[ssimsettings['boxpixels']/2]*3\n",
    "mpos"
   ]
  },
  {
   "cell_type": "code",
   "execution_count": 9,
   "id": "ebaca8d4-af77-4989-a110-36d060c1a6e8",
   "metadata": {
    "scrolled": true
   },
   "outputs": [
    {
     "data": {
      "application/vnd.jupyter.widget-view+json": {
       "model_id": "7d95adcee4dc4d94ba09f20402d31970",
       "version_major": 2,
       "version_minor": 0
      },
      "text/plain": [
       "  0%|          | 0/131071 [00:00<?, ?it/s]"
      ]
     },
     "metadata": {},
     "output_type": "display_data"
    }
   ],
   "source": [
    "trajdf=simutils.runPointSimulation(ssimsettings,ssimspecies)"
   ]
  },
  {
   "cell_type": "code",
   "execution_count": 10,
   "id": "e88f7b6d-39d2-46cc-a3b5-218b6ea5916c",
   "metadata": {},
   "outputs": [
    {
     "data": {
      "text/plain": [
       "(131072, 3)"
      ]
     },
     "execution_count": 10,
     "metadata": {},
     "output_type": "execute_result"
    }
   ],
   "source": [
    "trajdf.shape"
   ]
  },
  {
   "cell_type": "code",
   "execution_count": 11,
   "id": "fe6bd673-dbac-4d1c-bc2b-c0b06ebead18",
   "metadata": {},
   "outputs": [
    {
     "data": {
      "text/plain": [
       "[<matplotlib.lines.Line2D at 0x160ac7390>]"
      ]
     },
     "execution_count": 11,
     "metadata": {},
     "output_type": "execute_result"
    },
    {
     "data": {
      "image/png": "[encoded data removed]",
      "text/plain": [
       "<Figure size 640x480 with 1 Axes>"
      ]
     },
     "metadata": {},
     "output_type": "display_data"
    }
   ],
   "source": [
    "plt.plot(trajdf['x'],trajdf['ch1'])"
   ]
  },
  {
   "cell_type": "code",
   "execution_count": 12,
   "id": "05e090dc-bb02-4a7a-87fd-c6a9fbc62f09",
   "metadata": {},
   "outputs": [
    {
     "data": {
      "text/plain": [
       "x      3.276800\n",
       "ch1    2.899055\n",
       "ch2    1.390419\n",
       "dtype: float64"
      ]
     },
     "execution_count": 12,
     "metadata": {},
     "output_type": "execute_result"
    }
   ],
   "source": [
    "trajdf.mean()"
   ]
  },
  {
   "cell_type": "code",
   "execution_count": 13,
   "id": "5b45ce46-e2ce-4495-87c7-d08547afb419",
   "metadata": {},
   "outputs": [
    {
     "name": "stdout",
     "output_type": "stream",
     "text": [
      "Vpsf 0.04836114603958391 Vbox 32.76800000000001 Vratio 0.001475865052477536\n"
     ]
    }
   ],
   "source": [
    "vpsf=((np.pi/2.0)**1.5)*(simsettings['w0']**3)*simsettings['zratio']\n",
    "vbox=simsettings['boxsize']**3\n",
    "print('Vpsf',vpsf,'Vbox',vbox,'Vratio',vpsf/vbox)"
   ]
  },
  {
   "cell_type": "code",
   "execution_count": 14,
   "id": "a170e17b-7261-4a9d-b900-583e347e62a3",
   "metadata": {},
   "outputs": [],
   "source": [
    "nchan=len(simspecies)\n",
    "corrdf=pd.DataFrame()\n",
    "for i in range(nchan):\n",
    "    corr=autils.autocorr(trajdf.iloc[:,i+1])\n",
    "    bcorr,xvals=autils.binmultilog(corr)\n",
    "    if(i==0):\n",
    "        corrdf['tau']=xvals*ssimsettings['frametime']*1.0e-6\n",
    "    corrdf['ch'+str(i+1)]=bcorr"
   ]
  },
  {
   "cell_type": "code",
   "execution_count": 15,
   "id": "14a83627-7e5b-4dd4-b630-b3f997b90a5b",
   "metadata": {},
   "outputs": [],
   "source": [
    "ccorr=autils.crosscorr(trajdf['ch1'],trajdf['ch2'])\n",
    "bccorr,_=autils.binmultilog(ccorr)\n",
    "corrdf['ccorr']=bccorr"
   ]
  },
  {
   "cell_type": "code",
   "execution_count": 16,
   "id": "90eee598-cfaf-490c-9691-4eb67fd14bb6",
   "metadata": {},
   "outputs": [
    {
     "data": {
      "text/plain": [
       "Text(0, 0.5, 'G(tau)')"
      ]
     },
     "execution_count": 16,
     "metadata": {},
     "output_type": "execute_result"
    },
    {
     "data": {
      "image/png": "[encoded data removed]",
      "text/plain": [
       "<Figure size 640x480 with 1 Axes>"
      ]
     },
     "metadata": {},
     "output_type": "display_data"
    }
   ],
   "source": [
    "plt.plot(corrdf.loc[1:,'tau'],corrdf.loc[1:,'ch1'])\n",
    "plt.plot(corrdf.loc[1:,'tau'],corrdf.loc[1:,'ch2'])\n",
    "plt.plot(corrdf.loc[1:,'tau'],corrdf.loc[1:,'ccorr'])\n",
    "plt.legend(['ch1','ch2','ccorr'])\n",
    "plt.xscale('log')\n",
    "plt.xlabel('tau (s)')\n",
    "plt.ylabel('G(tau)')"
   ]
  },
  {
   "cell_type": "code",
   "execution_count": 17,
   "id": "564a218a-49df-491e-b1df-b4d2b68bff4c",
   "metadata": {},
   "outputs": [],
   "source": [
    "trajdf.to_csv('simulation.csv.zip',compression='zip')"
   ]
  },
  {
   "cell_type": "code",
   "execution_count": 18,
   "id": "ea0f96e2-3085-4d85-97ae-00b15b216a5c",
   "metadata": {},
   "outputs": [],
   "source": [
    "corrdf.to_csv('correlations.csv')"
   ]
  }
 ],
 "metadata": {
  "kernelspec": {
   "display_name": "jayenv",
   "language": "python",
   "name": "jayenv"
  },
  "language_info": {
   "codemirror_mode": {
    "name": "ipython",
    "version": 3
   },
   "file_extension": ".py",
   "mimetype": "text/x-python",
   "name": "python",
   "nbconvert_exporter": "python",
   "pygments_lexer": "ipython3",
   "version": "3.11.11"
  }
 },
 "nbformat": 4,
 "nbformat_minor": 5
}
