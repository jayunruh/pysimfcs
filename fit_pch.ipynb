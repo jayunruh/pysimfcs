{
 "cells": [
  {
   "cell_type": "markdown",
   "id": "2d3fa63d-6458-4bb2-bc66-599a9834e1ec",
   "metadata": {},
   "source": [
    "### This notebook fits photon counting histograms (PCH)\n",
    "Note that you need to have simulation.csv.zip from the sim_fcs simulation (or from experimental data) loaded into your workspace.\n",
    "Click here to open in google colab: http://colab.research.google.com/github/jayunruh/pysimfcs/blob/main/fit_pch.ipynb"
   ]
  },
  {
   "cell_type": "code",
   "execution_count": 1,
   "id": "9075736d-7e10-43c4-8268-eb8890ef2746",
   "metadata": {},
   "outputs": [
    {
     "name": "stdout",
     "output_type": "stream",
     "text": [
      "libraries already downloaded\n"
     ]
    }
   ],
   "source": [
    "#if you are using this from google colab, you need the utility modules\n",
    "#(everything else should already be installed)\n",
    "import os\n",
    "if(not os.path.exists('pysimfcs_utils.py')):\n",
    "    print('downloading pysimfcs libraries')\n",
    "    !wget https://raw.githubusercontent.com/jayunruh/pysimfcs/refs/heads/main/pysimfcs_utils.py\n",
    "if(not os.path.exists('analysis_utils.py')):\n",
    "    !wget https://raw.githubusercontent.com/jayunruh/pysimfcs/refs/heads/main/analysis_utils.py\n",
    "else:\n",
    "    print('libraries already downloaded')"
   ]
  },
  {
   "cell_type": "code",
   "execution_count": 2,
   "id": "509fc12a-ef62-4098-93fd-803a4a8300f4",
   "metadata": {},
   "outputs": [],
   "source": [
    "#see fit_correlations for the descriptions of imports\n",
    "import numpy as np\n",
    "import pandas as pd\n",
    "import matplotlib.pyplot as plt\n",
    "import analysis_utils as simutils\n",
    "import scipy.optimize as so"
   ]
  },
  {
   "cell_type": "code",
   "execution_count": 3,
   "id": "d16b8bee-d6a6-4688-85b4-0b5c9467e0fa",
   "metadata": {},
   "outputs": [],
   "source": [
    "simdf=pd.read_csv('simulation.csv.zip',index_col=0)"
   ]
  },
  {
   "cell_type": "code",
   "execution_count": 4,
   "id": "9eb7a17e-0fac-48d7-81e6-e74afe790589",
   "metadata": {},
   "outputs": [
    {
     "data": {
      "text/html": [
       "<div>\n",
       "<style scoped>\n",
       "    .dataframe tbody tr th:only-of-type {\n",
       "        vertical-align: middle;\n",
       "    }\n",
       "\n",
       "    .dataframe tbody tr th {\n",
       "        vertical-align: top;\n",
       "    }\n",
       "\n",
       "    .dataframe thead th {\n",
       "        text-align: right;\n",
       "    }\n",
       "</style>\n",
       "<table border=\"1\" class=\"dataframe\">\n",
       "  <thead>\n",
       "    <tr style=\"text-align: right;\">\n",
       "      <th></th>\n",
       "      <th>x</th>\n",
       "      <th>ch1</th>\n",
       "      <th>ch2</th>\n",
       "    </tr>\n",
       "  </thead>\n",
       "  <tbody>\n",
       "    <tr>\n",
       "      <th>0</th>\n",
       "      <td>0.00000</td>\n",
       "      <td>0</td>\n",
       "      <td>0</td>\n",
       "    </tr>\n",
       "    <tr>\n",
       "      <th>1</th>\n",
       "      <td>0.00005</td>\n",
       "      <td>1</td>\n",
       "      <td>1</td>\n",
       "    </tr>\n",
       "    <tr>\n",
       "      <th>2</th>\n",
       "      <td>0.00010</td>\n",
       "      <td>3</td>\n",
       "      <td>3</td>\n",
       "    </tr>\n",
       "    <tr>\n",
       "      <th>3</th>\n",
       "      <td>0.00015</td>\n",
       "      <td>3</td>\n",
       "      <td>4</td>\n",
       "    </tr>\n",
       "    <tr>\n",
       "      <th>4</th>\n",
       "      <td>0.00020</td>\n",
       "      <td>1</td>\n",
       "      <td>3</td>\n",
       "    </tr>\n",
       "  </tbody>\n",
       "</table>\n",
       "</div>"
      ],
      "text/plain": [
       "         x  ch1  ch2\n",
       "0  0.00000    0    0\n",
       "1  0.00005    1    1\n",
       "2  0.00010    3    3\n",
       "3  0.00015    3    4\n",
       "4  0.00020    1    3"
      ]
     },
     "execution_count": 4,
     "metadata": {},
     "output_type": "execute_result"
    }
   ],
   "source": [
    "simdf.head()"
   ]
  },
  {
   "cell_type": "code",
   "execution_count": 5,
   "id": "e3ea043e-b4c4-4638-a9e5-d16625e87a93",
   "metadata": {},
   "outputs": [
    {
     "data": {
      "text/plain": [
       "x      6.5536\n",
       "ch1    8.0000\n",
       "ch2    7.0000\n",
       "dtype: float64"
      ]
     },
     "execution_count": 5,
     "metadata": {},
     "output_type": "execute_result"
    }
   ],
   "source": [
    "simdf.max()"
   ]
  },
  {
   "cell_type": "code",
   "execution_count": 6,
   "id": "0995f78a-14c7-46e5-9bdb-87e23f93d52b",
   "metadata": {},
   "outputs": [
    {
     "name": "stdout",
     "output_type": "stream",
     "text": [
      "intensity 0.5734710693359375 brightness 1.0018267495229523 number 0.5724253915250433\n"
     ]
    }
   ],
   "source": [
    "avgint=simdf['ch1'].mean()\n",
    "nbbright=simdf['ch1'].var()/avgint-1\n",
    "nbnum=avgint/nbbright\n",
    "gval=0.3536\n",
    "print('intensity',avgint,'brightness',nbbright/gval,'number',nbnum*gval)"
   ]
  },
  {
   "cell_type": "code",
   "execution_count": 9,
   "id": "e69c30c8-2697-47ce-a8e5-121628fff616",
   "metadata": {},
   "outputs": [],
   "source": [
    "pch1,xvals=np.histogram(simdf['ch1'],bins=np.arange(11))\n",
    "normpch1=pch1.astype(float)\n",
    "totint=normpch1.sum()\n",
    "normpch1/=totint\n",
    "xvals=xvals[:-1]"
   ]
  },
  {
   "cell_type": "code",
   "execution_count": 10,
   "id": "0f3e0cee-14b2-4bf1-b903-66b95e25ea9d",
   "metadata": {},
   "outputs": [
    {
     "data": {
      "image/png": "[encoded data removed]",
      "text/plain": [
       "<Figure size 640x480 with 1 Axes>"
      ]
     },
     "metadata": {},
     "output_type": "display_data"
    }
   ],
   "source": [
    "#params are background, brightness, and number\n",
    "guessparams=[0.0,1.0,0.6]\n",
    "fit=simutils.pchfunc(xvals,*guessparams)\n",
    "plt.plot(xvals,pch1,'bo-')\n",
    "plt.plot(xvals,fit*totint,'r-')\n",
    "plt.yscale('log')"
   ]
  },
  {
   "cell_type": "code",
   "execution_count": 11,
   "id": "888ce296-a16c-469c-b9bb-26d006be72f9",
   "metadata": {},
   "outputs": [],
   "source": [
    "weights=simutils.getpchweights(pch1)"
   ]
  },
  {
   "cell_type": "code",
   "execution_count": 12,
   "id": "5b22f33f-16b9-4633-8b64-7423dad09206",
   "metadata": {},
   "outputs": [],
   "source": [
    "guessparams=[0.0001,1.0,0.6]\n",
    "ulims=[0.01,10.0,10.0]\n",
    "llims=[0.0,0.1,0.1]"
   ]
  },
  {
   "cell_type": "code",
   "execution_count": 13,
   "id": "8ecb9ca7-0111-4f9a-b44e-e42180b37d3c",
   "metadata": {},
   "outputs": [
    {
     "data": {
      "text/plain": [
       "array([3.39281720e+05, 1.76155005e+05, 1.43999574e+05, 1.34989700e+05,\n",
       "       1.32156906e+05, 1.31395798e+05, 1.31169072e+05, 1.31090002e+05,\n",
       "       1.31078000e+05, 1.00000000e+00])"
      ]
     },
     "execution_count": 13,
     "metadata": {},
     "output_type": "execute_result"
    }
   ],
   "source": [
    "weights"
   ]
  },
  {
   "cell_type": "code",
   "execution_count": 14,
   "id": "aa44a1eb-2519-4c1a-a2d4-66afdb96bb4f",
   "metadata": {},
   "outputs": [],
   "source": [
    "fparams,fcov=so.curve_fit(simutils.pchfunc,xvals,normpch1,\n",
    "             p0=guessparams,sigma=1.0/weights,bounds=(llims,ulims),method='trf')\n",
    "fit=simutils.pchfunc(xvals,*fparams)"
   ]
  },
  {
   "cell_type": "code",
   "execution_count": 15,
   "id": "9ca5db8f-ac83-43ef-a099-bce69b877d82",
   "metadata": {},
   "outputs": [
    {
     "data": {
      "text/plain": [
       "array([0.01      , 1.01005703, 0.55740935])"
      ]
     },
     "execution_count": 15,
     "metadata": {},
     "output_type": "execute_result"
    }
   ],
   "source": [
    "fparams"
   ]
  },
  {
   "cell_type": "code",
   "execution_count": 16,
   "id": "04f96659-5d45-4f97-82cf-27df6ebb4d64",
   "metadata": {},
   "outputs": [
    {
     "data": {
      "text/plain": [
       "Text(0, 0.5, 'frequency')"
      ]
     },
     "execution_count": 16,
     "metadata": {},
     "output_type": "execute_result"
    },
    {
     "data": {
      "image/png": "[encoded data removed]",
      "text/plain": [
       "<Figure size 640x480 with 1 Axes>"
      ]
     },
     "metadata": {},
     "output_type": "display_data"
    }
   ],
   "source": [
    "plt.plot(xvals,pch1,'bo-')\n",
    "plt.plot(xvals,fit*totint,'r-')\n",
    "plt.yscale('log')\n",
    "plt.xlabel('counts')\n",
    "plt.ylabel('frequency')"
   ]
  },
  {
   "cell_type": "code",
   "execution_count": null,
   "id": "95890f12-0596-48ee-8326-25c860ac6808",
   "metadata": {},
   "outputs": [],
   "source": []
  }
 ],
 "metadata": {
  "kernelspec": {
   "display_name": "jayenv",
   "language": "python",
   "name": "jayenv"
  },
  "language_info": {
   "codemirror_mode": {
    "name": "ipython",
    "version": 3
   },
   "file_extension": ".py",
   "mimetype": "text/x-python",
   "name": "python",
   "nbconvert_exporter": "python",
   "pygments_lexer": "ipython3",
   "version": "3.11.11"
  }
 },
 "nbformat": 4,
 "nbformat_minor": 5
}
