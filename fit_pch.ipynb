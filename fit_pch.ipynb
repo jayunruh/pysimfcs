{
 "cells": [
  {
   "cell_type": "markdown",
   "id": "2d3fa63d-6458-4bb2-bc66-599a9834e1ec",
   "metadata": {},
   "source": [
    "### This notebook fits photon counting histograms (PCH)\n",
    "Note that you need to have simulation.csv.zip from the sim_fcs simulation (or from experimental data) loaded into your workspace.\n",
    "Click here to open in google colab: http://colab.research.google.com/github/jayunruh/pysimfcs/blob/main/fit_pch.ipynb"
   ]
  },
  {
   "cell_type": "code",
   "execution_count": 1,
   "id": "9075736d-7e10-43c4-8268-eb8890ef2746",
   "metadata": {},
   "outputs": [
    {
     "name": "stdout",
     "output_type": "stream",
     "text": [
      "libraries already downloaded\n"
     ]
    }
   ],
   "source": [
    "#if you are using this from google colab, you need the utility modules\n",
    "#(everything else should already be installed)\n",
    "import os\n",
    "if(not os.path.exists('pysimfcs_utils.py')):\n",
    "    print('downloading pysimfcs libraries')\n",
    "    !wget https://raw.githubusercontent.com/jayunruh/pysimfcs/refs/heads/main/pysimfcs_utils.py\n",
    "if(not os.path.exists('analysis_utils.py')):\n",
    "    !wget https://raw.githubusercontent.com/jayunruh/pysimfcs/refs/heads/main/analysis_utils.py\n",
    "else:\n",
    "    print('libraries already downloaded')"
   ]
  },
  {
   "cell_type": "code",
   "execution_count": 1,
   "id": "509fc12a-ef62-4098-93fd-803a4a8300f4",
   "metadata": {},
   "outputs": [],
   "source": [
    "#see fit_correlations for the descriptions of imports\n",
    "import numpy as np\n",
    "import pandas as pd\n",
    "import matplotlib.pyplot as plt\n",
    "import analysis_utils as simutils\n",
    "import scipy.optimize as so"
   ]
  },
  {
   "cell_type": "code",
   "execution_count": 2,
   "id": "d16b8bee-d6a6-4688-85b4-0b5c9467e0fa",
   "metadata": {},
   "outputs": [],
   "source": [
    "simdf=pd.read_csv('simulation.csv.zip',index_col=0)"
   ]
  },
  {
   "cell_type": "code",
   "execution_count": 3,
   "id": "9eb7a17e-0fac-48d7-81e6-e74afe790589",
   "metadata": {},
   "outputs": [
    {
     "data": {
      "text/html": [
       "<div>\n",
       "<style scoped>\n",
       "    .dataframe tbody tr th:only-of-type {\n",
       "        vertical-align: middle;\n",
       "    }\n",
       "\n",
       "    .dataframe tbody tr th {\n",
       "        vertical-align: top;\n",
       "    }\n",
       "\n",
       "    .dataframe thead th {\n",
       "        text-align: right;\n",
       "    }\n",
       "</style>\n",
       "<table border=\"1\" class=\"dataframe\">\n",
       "  <thead>\n",
       "    <tr style=\"text-align: right;\">\n",
       "      <th></th>\n",
       "      <th>x</th>\n",
       "      <th>ch1</th>\n",
       "      <th>ch2</th>\n",
       "    </tr>\n",
       "  </thead>\n",
       "  <tbody>\n",
       "    <tr>\n",
       "      <th>0</th>\n",
       "      <td>0.00000</td>\n",
       "      <td>1</td>\n",
       "      <td>1</td>\n",
       "    </tr>\n",
       "    <tr>\n",
       "      <th>1</th>\n",
       "      <td>0.00005</td>\n",
       "      <td>2</td>\n",
       "      <td>1</td>\n",
       "    </tr>\n",
       "    <tr>\n",
       "      <th>2</th>\n",
       "      <td>0.00010</td>\n",
       "      <td>4</td>\n",
       "      <td>3</td>\n",
       "    </tr>\n",
       "    <tr>\n",
       "      <th>3</th>\n",
       "      <td>0.00015</td>\n",
       "      <td>7</td>\n",
       "      <td>6</td>\n",
       "    </tr>\n",
       "    <tr>\n",
       "      <th>4</th>\n",
       "      <td>0.00020</td>\n",
       "      <td>4</td>\n",
       "      <td>7</td>\n",
       "    </tr>\n",
       "  </tbody>\n",
       "</table>\n",
       "</div>"
      ],
      "text/plain": [
       "         x  ch1  ch2\n",
       "0  0.00000    1    1\n",
       "1  0.00005    2    1\n",
       "2  0.00010    4    3\n",
       "3  0.00015    7    6\n",
       "4  0.00020    4    7"
      ]
     },
     "execution_count": 3,
     "metadata": {},
     "output_type": "execute_result"
    }
   ],
   "source": [
    "simdf.head()"
   ]
  },
  {
   "cell_type": "code",
   "execution_count": 4,
   "id": "e3ea043e-b4c4-4638-a9e5-d16625e87a93",
   "metadata": {},
   "outputs": [
    {
     "data": {
      "text/plain": [
       "x       6.5536\n",
       "ch1    31.0000\n",
       "ch2    21.0000\n",
       "dtype: float64"
      ]
     },
     "execution_count": 4,
     "metadata": {},
     "output_type": "execute_result"
    }
   ],
   "source": [
    "simdf.max()"
   ]
  },
  {
   "cell_type": "code",
   "execution_count": 5,
   "id": "0995f78a-14c7-46e5-9bdb-87e23f93d52b",
   "metadata": {},
   "outputs": [
    {
     "name": "stdout",
     "output_type": "stream",
     "text": [
      "intensity 2.8990554809570312 brightness 4.86080068652433 number 0.5964152138544019\n"
     ]
    }
   ],
   "source": [
    "avgint=simdf['ch1'].mean()\n",
    "nbbright=simdf['ch1'].var()/avgint-1\n",
    "nbnum=avgint/nbbright\n",
    "gval=0.3536\n",
    "print('intensity',avgint,'brightness',nbbright/gval,'number',nbnum*gval)"
   ]
  },
  {
   "cell_type": "code",
   "execution_count": 6,
   "id": "e69c30c8-2697-47ce-a8e5-121628fff616",
   "metadata": {},
   "outputs": [],
   "source": [
    "pch1,xvals=np.histogram(simdf['ch1'],bins=np.arange(25))\n",
    "normpch1=pch1.astype(float)\n",
    "totint=normpch1.sum()\n",
    "normpch1/=totint\n",
    "xvals=xvals[:-1]"
   ]
  },
  {
   "cell_type": "code",
   "execution_count": 7,
   "id": "0f3e0cee-14b2-4bf1-b903-66b95e25ea9d",
   "metadata": {},
   "outputs": [
    {
     "data": {
      "image/png": "[encoded data removed]",
      "text/plain": [
       "<Figure size 640x480 with 1 Axes>"
      ]
     },
     "metadata": {},
     "output_type": "display_data"
    }
   ],
   "source": [
    "fit=simutils.pchfunc(xvals,*[0.0,5.0,0.6])\n",
    "plt.plot(xvals,pch1,'bo-')\n",
    "plt.plot(xvals,fit*totint,'r-')\n",
    "plt.yscale('log')"
   ]
  },
  {
   "cell_type": "code",
   "execution_count": 8,
   "id": "888ce296-a16c-469c-b9bb-26d006be72f9",
   "metadata": {},
   "outputs": [],
   "source": [
    "weights=simutils.getpchweights(pch1)"
   ]
  },
  {
   "cell_type": "code",
   "execution_count": 9,
   "id": "5b22f33f-16b9-4633-8b64-7423dad09206",
   "metadata": {},
   "outputs": [],
   "source": [
    "guessparams=[0.0001,5.0,0.6]\n",
    "ulims=[0.01,20.0,10.0]\n",
    "llims=[0.0,0.1,0.1]"
   ]
  },
  {
   "cell_type": "code",
   "execution_count": 10,
   "id": "8ecb9ca7-0111-4f9a-b44e-e42180b37d3c",
   "metadata": {},
   "outputs": [
    {
     "data": {
      "text/plain": [
       "array([164273.96552845, 161714.77155148, 155256.58627421, 149614.26019368,\n",
       "       144876.55729839, 141167.05457817, 138233.07886225, 135964.0932697 ,\n",
       "       134533.09402653, 133343.73697773, 132540.28793069, 132021.84820214,\n",
       "       131745.4527684 , 131486.31180113, 131321.47775204, 131227.18589161,\n",
       "       131158.05778568, 131127.02393619, 131093.00369328, 131094.00403669,\n",
       "       131087.00195338, 131075.00012207, 131073.00003052, 131073.00003052])"
      ]
     },
     "execution_count": 10,
     "metadata": {},
     "output_type": "execute_result"
    }
   ],
   "source": [
    "weights"
   ]
  },
  {
   "cell_type": "code",
   "execution_count": 11,
   "id": "aa44a1eb-2519-4c1a-a2d4-66afdb96bb4f",
   "metadata": {},
   "outputs": [],
   "source": [
    "fparams,fcov=so.curve_fit(simutils.pchfunc,xvals,normpch1,\n",
    "             p0=guessparams,sigma=1.0/weights,bounds=(llims,ulims),method='trf')\n",
    "fit=simutils.pchfunc(xvals,*fparams)"
   ]
  },
  {
   "cell_type": "code",
   "execution_count": 12,
   "id": "9ca5db8f-ac83-43ef-a099-bce69b877d82",
   "metadata": {},
   "outputs": [
    {
     "data": {
      "text/plain": [
       "array([1.12697269e-03, 4.92792571e+00, 5.89248021e-01])"
      ]
     },
     "execution_count": 12,
     "metadata": {},
     "output_type": "execute_result"
    }
   ],
   "source": [
    "fparams"
   ]
  },
  {
   "cell_type": "code",
   "execution_count": 14,
   "id": "04f96659-5d45-4f97-82cf-27df6ebb4d64",
   "metadata": {},
   "outputs": [
    {
     "data": {
      "text/plain": [
       "Text(0, 0.5, 'frequency')"
      ]
     },
     "execution_count": 14,
     "metadata": {},
     "output_type": "execute_result"
    },
    {
     "data": {
      "image/png": "[encoded data removed]",
      "text/plain": [
       "<Figure size 640x480 with 1 Axes>"
      ]
     },
     "metadata": {},
     "output_type": "display_data"
    }
   ],
   "source": [
    "plt.plot(xvals,pch1,'bo-')\n",
    "plt.plot(xvals,fit*totint,'r-')\n",
    "plt.yscale('log')\n",
    "plt.xlabel('counts')\n",
    "plt.ylabel('frequency')"
   ]
  },
  {
   "cell_type": "code",
   "execution_count": null,
   "id": "95890f12-0596-48ee-8326-25c860ac6808",
   "metadata": {},
   "outputs": [],
   "source": []
  }
 ],
 "metadata": {
  "kernelspec": {
   "display_name": "jayenv",
   "language": "python",
   "name": "jayenv"
  },
  "language_info": {
   "codemirror_mode": {
    "name": "ipython",
    "version": 3
   },
   "file_extension": ".py",
   "mimetype": "text/x-python",
   "name": "python",
   "nbconvert_exporter": "python",
   "pygments_lexer": "ipython3",
   "version": "3.11.11"
  }
 },
 "nbformat": 4,
 "nbformat_minor": 5
}
