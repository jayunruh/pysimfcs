{
 "cells": [
  {
   "cell_type": "markdown",
   "id": "848e1d91-b6bf-43d9-bd98-929b7dc21455",
   "metadata": {},
   "source": [
    "# Fluorescence Correlation Spectroscopy, Brightness Analysis, and Photon Counting Histograms"
   ]
  },
  {
   "cell_type": "markdown",
   "id": "118bccbf-8fef-439e-9042-588704b608be",
   "metadata": {
    "jp-MarkdownHeadingCollapsed": true
   },
   "source": [
    "## Fluorescence Fluctuations\n",
    "The basis for FCS and its related techniques is brownian diffusion and the statistics of molecular occupancy. The focal volume of a confocal fluorescence microscope is less than 1 femtoliter (we estimate ~0.1 fL for a confocal microscope with a small pinhole). As a result, a 100 nM solution of fluorescent molecules will have on average 6 molecules in the microscope focal volume at a time. Clearly, molecular diffusion will cause molecules to diffuse in and out of the microscope focal volume. This is accompanied by fluctuations in the fluorescence intensity measured by the microscope. Given the fast time scales involved and the low fluorescence from most fluorophores of interest, the appearance of the time trace simply appears as a noisy signal. To extract information about the fluctuations we need to calculate a temporal autocorrelation function. This calculation is conceptually fairly simple: the time trace is copied and shifted by one time point and the correlation coefficient is calculated. Then the copied trace is shifted by two time points and correlated again. This is repeated for all possible time shifts. For small shifts, the correlation will be high because the traces are very similar. As the shifts get bigger the fluctuations will be widely separated from one another and the correlation will go to zero. Here is the correlation calculation in mathematical terms:\n",
    "\n",
    "![correlation_equation](images/fcs/image002.png)\n",
    "\n",
    "Here's a simulated trace and it's temporal correlation:\n",
    "\n",
    "<img src=\"images/fcs/fluctuation.gif\" width=\"350\"><br>\n",
    "![simulated_correlation](images/fcs/image02.gif)\n",
    "\n",
    "### References:\n",
    "<a href=\"http://www.ncbi.nlm.nih.gov/pubmed/4818131\">Elson, E. L. and D. Magde (1974). \"Fluorescence correlation spectroscopy. I. Conceptual basis and theory.\" Biopolymers 13(1): 1-27.</a>"
   ]
  },
  {
   "cell_type": "markdown",
   "id": "d7258dc9-5727-474c-a1a9-c941d6988ad1",
   "metadata": {},
   "source": [
    "## Analyzing the Correlation Function\n",
    "There are typically two basic pieces of information that can be gleaned from the correlation function: the average time it takes for a molecule to move through the focal volume, and the number of particles in the focal volume. For simple diffusion in two and three dimensions, this relationship is given as follows:<br>\n",
    "<img src=\"images/fcs/image002.gif\"><br>\n",
    "<img src=\"images/fcs/image004.gif\"><br>\n",
    "\n",
    "Here <em>&tau;<sub>d</sub></em> is the average time required for a molecule to traverse the radial dimension of the focal volume, &gamma; is a shape factor for the focal volume, <em>N</em> is the average number of molecules in the focus, and <em>r</em> is the ratio between the axial and radial dimensions of the focal volume. Often the ratio &gamma;/N is referred to as G(0) because it describes the amplitude of the correlation function at zero time lag. The diffusion time is directly related to the radial dimension of the focal volume as follows:<br>\n",
    "<img src=\"images/fcs/image006.gif\"><br>\n",
    "Here <em>&omega;<sub>0</sub></em> is referred to as the &quot;beam waist&quot; of the focal volume. It is related to the full width half maximum (FWHM) as follows:<br>\n",
    "<img src=\"images/fcs/image008.gif\"><br>\n",
    "This analysis assumes a 3D Gaussian microsope focus:<br>\n",
    "<img src=\"images/fcs/image03.png\" width=\"200\";><br>\n",
    "This is a good approximation only for a small pinhole. Mathematically this focal shape is given as follows:<br>\n",
    "<img src=\"images/fcs/image010_fixed.gif\"><br><br>\n",
    "### References:\n",
    "<span> Thompson, N. L. (1991). Fluorescence Correlation Spectroscopy. <u>Topics in Fluorescence Spectroscopy</u>. J. R. Lakowicz. New York, Plenum Press. <b>1: </b>337-378.</span><br>"
   ]
  },
  {
   "cell_type": "markdown",
   "id": "2b1db7d7-1acc-425d-80a5-2c24057143be",
   "metadata": {},
   "source": [
    "## Calculating Concentration\n",
    "Given the simple relationship between the correlation function amplitude and the average number of particles, it seems straightforward to immediately calculate the particle concentration. All that is missing is the volume of the focus, right? Unfortunately, the answer is not that simple. Theoretically, the volume of the focus is given by the integral of the 3D Gaussian laser focus as follows:<br>\n",
    "<img src=\"images/fcs/image012.gif\"><br>\n",
    "Here we already run into problems. In principle, the z<sub>0</sub> parameter in the above equation can be determined from the axial/radial ratio defined above, but in practice, this measurement is only weakly sensitive to the actual axial dimension of the focus. In fact, recent papers (Hess and Webb) recommend fixing this parameter to a value of 5 in the analysis. The rational for this lies in the poor z resolution inherent to optical measurement techniques. During the fluctuation measurement, the changes in intensity as the molecule moves radially are much greater than those accompanying axial motion. As a result, one can essentially omit information about the third dimension from FCS analysis and still get reasonable results.<br><br>\n",
    "\n",
    "Further complications are given by the nature of the correlation amplitude measurement itself. While FCS is uniquely sensitive to the fluctuations of single molecules, its amplitude is notoriously dependent on background fluorescence intensity. In fact, every confocal measurement has significant amounts of out of focus light that contaminate every measurement. Since this light spreads from the focal volume in a diffuse way, it contains essentially no fluctuations and as a result is similar to background. This significantly reduces the apparent correlation amplitude and results in an overestimation of the concentration observed or conversely an underestimation of the apparent focal volume.<br><br>\n",
    "\n",
    "The only way to accurately calibrate the concentration is to perform a titration from a known dye concentration. We typically use fluorescein in 0.1 M NaOH which has an extinction coefficient of 75,000 M<sup>-1</sup> cm<sup>-1</sup>. The concentration can be accurately measured using a UV/Vis spectrophotometer in the uM concentration range. Subsequent careful dilutions allow for calibration of the confocal volume for FCS measurements. In our hands this method yeilds a focal volume approximately 2.3 times larger than that obtained using the measured beam waist and an axial to radial ratio of 5.<br><br>\n",
    "### References:\n",
    "<span>Hess, S. T. and W. W. Webb (2002). &quot;Focal Volume Optics and Experimental Artifacts in Confocal Fluorescence Correlation Spectroscopy.&quot; <u>Biophys. J.</u> <b>83</b>(4): 2300-2317.</span><br>\n",
    "<span>Unruh, J. R., G. Gokulrangan, G. S. Wilson,  and C. K. Johnson (2005). &quot;Fluorescence Properties of Fluorescein, Tetramethylrhodamine and Texas Red Linked to a DNA Aptamer.&quot; <u>Photochem. Photobiol.</u> <b>81</b>: 682-690.</span><br>\n",
    "<span>R&uuml;ttinger, S., V. Buschmann, B. Kr&auml;mer, R. Erdmann, R. MacDonald,  and F. Koberling (2008). &quot;Comparison and accuracy of methods to determine the confocal volume for quantitative fluorescence correlation spectroscopy.&quot; <u>J. Microscopy.</u> <b>232</b>(2): 343-352.</span>"
   ]
  },
  {
   "cell_type": "markdown",
   "id": "22db664a-99f2-4f16-b685-70ac4caae6e0",
   "metadata": {},
   "source": [
    "# The &gamma; Factor\n",
    "The &gamma; factor has been the source of great confusion for those learning the fundamentals of FCS. Perhaps part of this confusion has been generated by the fact that many publications omit the &gamma; factor all together. This omission is justified by a change in definition of focal volume as follows:<br>\n",
    "<img src=\"images/fcs/image014.gif\"><br>\n",
    "\n",
    "Given our previous discussion about the tenuous relationship between the focal volume z dimension and the calculation of concentration, this omission seems quite reasonable. Nevertheless, it is wise to retain the &gamma; factor so that the apparent number of particles is consistant with the number measured from intensity distribution methods like PCH or FIDA.<br><br>\n",
    "Given our need for the &gamma; factor, it is wise to define it:<br>\n",
    "<img src=\"images/fcs/image016.gif\"><br>\n",
    "<img src=\"images/fcs/image06.gif\" width=\"353\"><br>\n",
    "This definition seems rather obtuse, but we can wrap our heads around it with a simple thought experiment. Consider a square focal volume (as seen above in blue). Inside the focus, the intensity is 1 and outside it is 0. If we square the intensity of this focal volume, it is unchanged because the 1<sup>2</sup> = 1. Therefore the &gamma; factor is 1. Now we simply slope the edges of the focal volume a bit. If we square this focal volume, its size changes. For example, in the region where the intensity is 0.5, the squared intensity is 0.25. As a result the squared focal volume is smaller than the focal volume itself and the &gamma; factor is less than 1. Therefore the &gamma; factor is a measure of the sharpness of the edges of the focal volume. For one photon excitation, the &gamma; factor is theoretically 0.3536.  In practice, we have measured &gamma; to be 0.27 (Slaughter et al., Nat. Comm., 2013).  For two photon excitation &gamma; is predicted to be 0.076. This is due to the fact that the two photon focal volume decays to zero very slowly compared to the one photon focal volume.<br><br>\n",
    "### References:\n",
    "<span> Thompson, N. L. (1991). Fluorescence Correlation Spectroscopy. <u>Topics in Fluorescence Spectroscopy</u>. J. R. Lakowicz. New York, Plenum Press. <b>1: </b>337-378.</span>"
   ]
  },
  {
   "cell_type": "markdown",
   "id": "dce15c52-bc75-4f61-a7f0-ffb8a3088000",
   "metadata": {},
   "source": [
    "# Triplet Dynamics\n",
    "While most FCS studies are focused on the mobility or concentration of the molecules involved, it is important to note that there are fluctuations other than molecular motion to contend with. The most commonly observed of these is triplet behavior. Fluorescence microscopy and spectroscopy typically probe the singlet excited state of the molecule, but a small fraction of the molecules also enter the triplet state. This state is lower in energy than the singlet excited state and transitions to that state have low probability. The triplet state can lead to the emission of phosphorescence rather than fluorescence. Phosphorescence has lower energy than fluorescence (different wavelength) and is emitted over microseconds rather than nanoseconds like fluorescence. This longer lifetime is due to the low probability of transitions to and from the triplet state. In FCS measurements, the triplet state simply appears as a &quot;dark&quot; state that lasts for a few microseconds. This is typically much faster than the diffusion time of molecules and gives rise to a hump at short time scales in the FCS curve.<br>\n",
    "<img src=\"images/fcs/image08.gif\" width=\"353\"><br>\n",
    "This hump is fit well by an exponential function as follows:<br>\n",
    "<img src=\"images/fcs/image018.gif\"><br>\n",
    "The population of the triplet state is dependent on laser power. Triplet behavior is generally avoided by using low laser powers. There are several reasons for this. Firstly, in the absence of triplet dynamics, the analysis of FCS curves is much simpler. Secondly, the power dependence of triplet behavior leads to saturation of the focal volume since molecules in the center of the focus are more likely to enter the triplet state than those at the edges. This leads to distortion of the focal volume and non-standard diffusion behavior. Finally, the triplet state is often a pathway to photobleaching. Photobleaching causes slow decreases in the fluorescence signal leading to non-standard correlation curves. In addition, photobleaching can lead to a shortening of the apparent diffusion time because the molecules dissappear before they have traversed the focal volume.<br><br>\n",
    "Despite attempts to avoid triplet behavior, some molecules like fluorescent proteins have such dominant triplet (or triplet-like) behavior that it is impossible to eliminate. Therefore, it is important that fcs analysis software incorporate the ability to fit triplet dynamics for appropriate analysis of FCS data.  For difficult samples like fluorescent protein diffusion in live cells, we typically find the triplet fraction of the fluorophore at a specified set of microscope parameters and fix it in further analysis.<br><br>\n",
    "### References:\n",
    "<span>Widengren, J., R. Rigler and U. mets (1994). &quot;Triplet-State Monitoring by Fluorescence Correlation Spectroscopy.&quot; <u>Journal of Fluorescence</u> <b>4</b>(3): 255-258.</span>"
   ]
  },
  {
   "cell_type": "markdown",
   "id": "152e90a3-9a22-4574-97d7-372392a613b3",
   "metadata": {},
   "source": [
    "# Multiple Species Correlation Functions:\n",
    "Often, molecules exist in more than one mobility state. This is especially true of proteins in vivo. All proteins at some point in the cell cycle have a fraction associated with recycling vessicles. Therefore, they show both a fast and a slow mobility component. In addition, many proteins interact with complexes of other proteins and cytoskeletal elements resulting in low mobility. There are two general classes of heterogeneous diffusion that is observed. The first is the case where all mobility components have the same molecular brightness and therefore the same oligomerization state. Under those circumstances the correlation functions simply add together as follows:<br>\n",
    "<img src=\"images/fcs/image020.gif\"><br>\n",
    "he second case is where different mobility components have different molecular brightness (oligomerization state). Many proteins exhibit oligomerization in complexes, though this process is poorly understood because of the limited nature of biochemical oligomerization measurements. Under these circumstances, the amplitudes of the different correlation components are no longer additive. They depend both on the molecular brightness of the particles and the average number of each type of particle. The amplitude of each correlation curve is then given by:<br>\n",
    "<img src=\"images/fcs/image022.gif\"><br>\n",
    "<img src=\"images/fcs/image10.gif\"><br>\n",
    "Here <em>i</em> indexes the species of interest, <em>f</em> is the fractional intensity, and <em>&epsilon;</em> is the molecular brightness. It is easy to see from this expression that it is impossible to accurately calculate the number of molecules if the molecular brightnesses of each species are not known before hand. The section on brightness methods contains more information on finding those brightnesses.<br><br>\n",
    "### References:\n",
    "<span> Thompson, N. L. (1991). Fluorescence Correlation Spectroscopy. <u>Topics in Fluorescence Spectroscopy</u>. J. R. Lakowicz. New York, Plenum Press. <b>1: </b>337-378.</span>"
   ]
  },
  {
   "cell_type": "markdown",
   "id": "5b6ad369-0820-4bbe-bbe6-d9f483ec64ad",
   "metadata": {},
   "source": [
    "# Two Photon FCS\n",
    "The best focal volume shape for Two Photon FCS is a gaussian-lorentzian squared. This is important for intensity distribution methods, but for FCS measurements we can get by simply squaring the focal volume shape as follows:<br>\n",
    "<img src=\"images/fcs/image024.gif\"><br>\n",
    "It is not necessary to change the form of the correlation function. We must simply change the definition of the diffusion time:<br>\n",
    "<img src=\"images/fcs/image026.gif\"><br>\n",
    "In addition, the gamma factor changes from 0.3536 to 0.076 as mentioned above. The result is that the amplitude of two photon correlation functions is significantly less than that of one photon correlation functions.<br><br>\n",
    "### References:\n",
    "<span>Berland, K. M., P. T. C. So, E. Gratton. (1995). &quot;Two-Photon Fluorescence Correlation Spectroscopy: Method and Application to the Intracellular Environment.&quot; <u>Biophys. J.</u> <b>68</b>: 694-701.</span>"
   ]
  },
  {
   "cell_type": "markdown",
   "id": "0e068368-88a3-4dbe-a661-0d8ba375e43a",
   "metadata": {},
   "source": [
    "# Dual Color FCS (Fluorescence Cross Correlation Spectroscopy)\n",
    "One of the most promising advances of fluorescence correlation spectroscopy has been the development of fluorescence cross correlation spectroscopy (FCCS). In FCCS, two detectors are used each probing a different color. Typical experiments use red and green colors, so I will use subscripts <em>g</em> and <em>r</em> to denote the two channels. Under these circumstances, the cross correlation function is measured along with the green and red autocorrelation functions. The normalized cross correlation function is calculated as follows:<br>\n",
    "<img src=\"images/fcs/image028.gif\"><br>\n",
    "The cross correlation function is a measure of how synchronized the fluctuations in intensity are between the green and red channels. Typically, the red and green species are diffusing at approximately the same rate, so the time dependence of the cross correlation function is the same as that of the aucorrelation functions. The amplitude of the cross correlation function, however, is dependent on the coincidence of the two channels. For each molecule, the cross correlation amplitude is dependent on its brightness in both channels as follows:<br>\n",
    "<img src=\"images/fcs/image030.gif\"><br>\n",
    "<img src=\"images/fcs/image12.gif\" width=\"352\"><br>\n",
    "With appropriately chosen filters and fluorophores, this function is close to zero when green and red particles are not interacting but much larger when interactions are present. As a result, this becomes a method to determine molecular codiffusion and therefore hetero-interactions.<br><br>\n",
    "The relationship between the correlation amplitudes and the amount of interaction present in a sample can be complex. Typically, one measures five things related to molecular brightness and interaction stoichiometry in an FCCS experiment: green G(0), red G(0), cross-correlation G(0), green intensity, and red intensity. As a result, five characteristics of the system can be pulled out of such a measurement. Three of these characteristics are typically the numbers of green unbound species, red unbound species, and interacting species. The other characteristics can either be stoichiometries or the brightnesses of the unbound species. We have devised several <a href=\"NBccCalculator2.html\">online calculators</a> to allow for calculation of these parameters.<br><br>\n",
    "### References:\n",
    "<span>Schwille, P., F. Meyer-Almes and R. Rigler (1997). &quot;Dual-Color Fluorescence Cross-Correlation Spectroscopy for Multicomponent Diffusional Analysis in Solution.&quot; <u>Biophys. J.</u> <b>72</b>(4): 1878-1886.</span><br>"
   ]
  },
  {
   "cell_type": "markdown",
   "id": "cfcd84ed-8597-4f6c-bfcb-04264f3c261d",
   "metadata": {},
   "source": [
    "# Molecular Brightness as a Measure of Oligomerization\n",
    "\n",
    "FCS methods are often used to obtain information about  oligomerization and binding by measuring changes in the mobility of  molecules. From our description of FCS,  one can see that the time required for a molecule to diffuse through the focus  of a confocal microscope is directly dependent on the molecule's size. Unfortunately, the diffusion time is  proportional to the cube root of the molecule's volume, meaning that a size  increase of 8 is typically required to achieve a diffusion time increase of  2. This means that using FCS to measure  mobility dependent aggregation will only be sensitive to the formation of large  complexes or complexes that interact with immobile elements such as  cytoskeleton.<br>\n",
    "\n",
    "<img src=\"images/pch/image002.gif\" width=\"331\"><br>\n",
    "\n",
    "The solution to this problem lies in the sensitivity of the  FCS measurement to molecular brightness. A dimer is, in principle, twice as bright as a monomer.  This difference is easily resolved from a  typical FCS measurement allowing for simple characterization of  oligomerization.  In addition, multiple  detection channels can be used, leading to measurements of stoichiometry within  a molecular complex."
   ]
  },
  {
   "cell_type": "markdown",
   "id": "bdedcb12-52e7-48f3-8b32-50365679d35e",
   "metadata": {},
   "source": [
    "# Fluctuation Amplitudes and Molecular Brightness\n",
    "\n",
    "Brightness analysis methods are based on the  amplitude of molecular fluctuations.&nbsp; As  in traditional FCS, a confocal microscope is required, creating an observation  volume less than 1 femtoliter.&nbsp; In such a  focal volume, there are typically less than 10 molecules at concentrations less  than 10 nM.&nbsp; As a result, the intensity  fluctuates as the molecules move in and out of the focal volume.&nbsp; The figure at the left shows that high  concentrations of dim particles give small fluctuations while lower  concentrations of bright particles give large fluctuations.&nbsp; In statistical terms, we can say that the  average intensity of these two experiments does not change while the variance  is greater in the solution with brighter particles.&nbsp; Therefore the ratio between variance and  intensity will give us some measure of the brightness of the molecules under  observation.&nbsp; Looking at the histogram of  the intensities, we see that this increase in variance is manifest as an  increase in the width of the intensity distribution.<br>\n",
    "<img src=\"images/pch/image004_small.gif\" width=\"415\"><br>"
   ]
  },
  {
   "cell_type": "markdown",
   "id": "12afd35c-5191-410a-a405-2b1d68db8924",
   "metadata": {},
   "source": [
    "# FCS Amplitudes in Brightness Analysis\n",
    "\n",
    "From our discussion about FCS above, we remember that  the amplitude of the correlation curve was inversely proportional to the number  of molecules present.&nbsp; Once the number of  molecules is known, we must simply divide the total intensity by the number of  molecules to obtain the molecular brightness.<br>\n",
    "<img src=\"images/pch/image006.gif\"><br>\n",
    "Note that this relationship only holds for a solution with a  single oligomerization state.&nbsp; The units  on brightness are counts/second/molecule (cpsm) if the units on intensity are  counts/second.&nbsp; Alternatively one can  measure the average intensity per time bin and use units of counts/time  bin/molecule (cptm).&nbsp; The &gamma; factor is the  same as discussed in the FCS section.&nbsp; If  there are multiple species present, the brightness obtained is an average  molecular brightness defined as follows:<br>\n",
    "<img src=\"images/pch/image008.gif\"><br>\n",
    "Here <em>f</em> is the fractional intensity of species <em>i</em>.<br><br>\n",
    "### Reference:\n",
    "<span>Thompson, N. L. (1991). Fluorescence Correlation Spectroscopy. <u>Topics in Fluorescence Spectroscopy</u>. J. R. Lakowicz. New York, Plenum Press. <b>1: </b>337-378.</span>"
   ]
  },
  {
   "cell_type": "markdown",
   "id": "74137db4-6b50-4c2d-a9be-3d7267183a33",
   "metadata": {},
   "source": [
    "# N&amp;B (Moment) Analysis\n",
    "\n",
    "When we look at the autocorrelation formula at zero  time lag, we can see that it is simply the variance divided by the intensity  squared.<br>\n",
    "<img src=\"images/pch/image010.gif\"><br>\n",
    "Unfortunately, this is a bit misleading.&nbsp; All light intensity measurements are  contaminated by &ldquo;shot noise&rdquo; or photon counting noise. &nbsp;This is referred to as shot noise because it  changes from measurement to measurement. &nbsp;The correlation curve is immune  to shot noise because it is actually a covariance between different time  points. The shot noise averages out and all that is left is the heterogeneity due to molecular fluctuations.&nbsp;Therefore, when we measure G(0)  we actually measure an extrapolated G(0).<br><br>\n",
    "If we look carefully at the shot noise, we can see that it  follows a poisson distribution.&nbsp; For this  distribution, the variance is equal to the intensity.&nbsp; Therefore we can eliminate the shot noise by  simply subtracting the intensity from the variance:<br>\n",
    "<img src=\"images/pch/image012.gif\"><br>\n",
    "Since the variance is the second central moment of the  intensity histogram, this has been referred to as moment analysis. &nbsp;Now we can create a simple formula for the  average molecular brightness:<br>\n",
    "<img src=\"images/pch/image014.gif\"><br>\n",
    "In many literature references, the parameter &quot;B&quot; is used. This parameter has a simple relationship with the average molecular brightness.<br>\n",
    "<img src=\"images/pch/image016.gif\"><br>\n",
    "Note that this assumes that the sampling time for the  variance is much shorter than the diffusion time of the molecule.&nbsp; Also note that this measurement is dependent  on the exposure time, not the overall frame rate. &nbsp;Therefore one can collect confocal images at a  rate of one per second and still obtain information about the brightness of  fluorescein (a fast moving fluorophore) if the pixel dwell time is on the order  of a few &micro;s.&nbsp; The major challenge is, of  course, the ability to collect many (&gt;50) one second images with only  molecular fluctuations in intensity.&nbsp; For  in vivo samples, this is essentially impossible due to cell motion. &nbsp;As a result, it is better to collect a very  small image at a higher frame rate or a line scan which can be repeated rapidly  to build up statistics.<br><br>\n",
    "In principle, the number of molecules can be calculated by  simply dividing the intensity by the molecular brightness.&nbsp; This is essentially identical to G(0)/&gamma;.&nbsp; Unfortunately, in noisy samples, the  brightness values will often be equal to or less than zero.&nbsp; As a result, the number of molecules will be  infinite or negative.&nbsp; To overcome this  difficulty, we simply plot a B vs. intensity 2D histogram for each image or  line. &nbsp;The relationship between B and  intensity gives all the information needed. &nbsp;For example, if brightness is high and  intensity is low, the number of molecules must be low. &nbsp;On the other hand if brightness is low and  intensity is high, the number of molecules is also high.<br>\n",
    "<img src=\"images/pch/image050_small.gif\" width=\"288\"><br><br>\n",
    "### Reference:\n",
    "<span>Qian, H., E. L. Elson. (1990). &quot;On the analysis of high order moments of fluorescence fluctuations.&quot; <u>Biophys. J.</u> <b>57</b>: 375-380.</span><br>\n",
    "<span>Digman, M. A., R. Dalal, A. F. Horwitz, and E. Gratton. (2008) &quot;Mapping the number of molecules and brightness in the laser scanning microscope.&quot; Biophys. J. <strong>94</strong>:2320-2332.</span>"
   ]
  },
  {
   "cell_type": "markdown",
   "id": "8bd17bea-8b94-4f98-b3a4-a2ea69fca82c",
   "metadata": {},
   "source": [
    "# The Photon Counting Histogram (PCH, FIDA)\n",
    "\n",
    "As we have seen in the previous sections, the shape of the  intensity histogram gives information about the number and brightness of  molecules in the measurement.&nbsp; Here we  want to generalize this so that we can fit the intensity histogram and get  information about the numbers and oligomerization states of our molecules.&nbsp; Two techniques have been developed for this  purpose: PCH (photon counting histogram) and FIDA (fluorescence intensity  distribution analysis). &nbsp;In general, any  intensity histogram fitting method must account for several sources of  heterogeneity. &nbsp;These include the  heterogeneity in the intensity of the focal volume (or point spread function (PSF)),  poisson shot noise, and fluctuations in the number of molecules in the focus.<br><br>\n",
    "PCH is the most straightforward method conceptually (but not necessarily in practice) so I will describe it here. Please refer to the literature links for details of other methods. For PCH, we start by calculating the intensity probability distribution for a single particle of specified molecular brightness in the PSF. This is done by integrating over all possible positions of the particle in the focus. For each position, the probability of recieving k photon counts is given by the poisson distribution, the molecular brightness, and the intensity of the PSF at that point.. Since the focus is poorly defined, we define an arbitrary volume, significantly larger than the PSF over which the integral must take place (<em>V<sub>0</sub></em>). The general formula is given as follows:<br>\n",
    "<img src=\"images/pch/image018.gif\"><br>\n",
    "Note that here we have used k to denote the number of photon counts. Here k can be used interchangeably with intensity. Note that the shape of the PSF must be known fairly accurately for this method to work. The poisson distribution is defined as follows:<br><img src=\"images/pch/image020.gif\"><br>\n",
    "If there are two particles in the focus at once, their intensity distributions do not add, but rather are convolved with one another. This is another way of saying that we have to account for every possible combination of positions of particle one and particle two. For discrete histograms, convolution can be performed with the following simple formula:<br>\n",
    "<img src=\"images/pch/image022.gif\"><br>\n",
    "Using this formula, we can calculate the n particle intensity distribution by simply convolving the n-1 particle distribution with the single particle intensity distribution. The only thing left to do is to account for poisson fluctuations in the number of particles. This is done by calculating the average of all n particle distributions, weighting each by the probability of having that n given the average number of particles, N.<br>\n",
    "<img src=\"images/pch/image024.gif\"><br>\n",
    "If multiple species are present, these are convolved together to obtain the final distribution as follows:<br>\n",
    "<img src=\"images/pch/image026.gif\"><br>\n",
    "Now that we know how to simulate a histogram, we can fit data as follows. We must first define the weighting function which is essentially just the variance defined as follows:<br>\n",
    "<img src=\"images/pch/image028.gif\"><br>\n",
    "Here p(k) is the experimentally determined probability of observing k photon counts in a bin and M is the total number of measurements. Note that we do not fit the overall histogram but rather the histogram divided by M (normalized to unit area) which is equivalent to p(k).We then define as chi squared as follows:<br>\n",
    "<img src=\"images/pch/image030.gif\"><br>\n",
    "Here d is the number of fitting parameters. Fitting then proceeds according to standard non-linear least squares proceedures: first the initial parameters are guessed, second the PCH function is simulated, third the chi squared and derivatives of the PCH function at each point with respect to each parameter are calculated, and fourth the initial parameters are updated in order to minimize the chi squared. This proceedure is repeated until chi squared has reached a sufficient minimum and the fit appears reasonable. For well sampled data, the chi squared should be close to one at the minimum.<br><br>\n",
    "### References:\n",
    "<span>Chen, Y., J. D. M&uuml;ller, P. T. C. So, and E. Gratton. (1999) The photon counting histogram in fluorescence fluctuation spectroscopy. Biophys. J. <strong>77</strong>:553-567.</span><br>\n",
    "<span>Kask, P., K. Palo, D. Ullmann, and K. Gall. (1999) Fluorescence-intensity distribution analysis and its application in biomolecular detection technology. Proc. Natl. Acad. Sci. U. S. A. <strong>96</strong>:13756-13761.</span>"
   ]
  },
  {
   "cell_type": "markdown",
   "id": "1b569b2a-18b2-4a1c-9f06-fcf67afecedf",
   "metadata": {},
   "source": [
    "# Fluorescence Cumulant Analysis\n",
    "\n",
    "We have discussed above that the shape of the intensity histogram is directly related to the brightness and number of molecules present in solution. In addition, we discussed N&amp;B analysis where this relationship is condensed down to the variance of the intensity histogram. This has been referred to as &quot;moment analysis&quot; given that variance is the second central moment of the intensity. In principle, a histogram can be completely described by its moments. Therefore, it seems logical that we should analyze the moments of the histogram rather than the histogram itself, especially if these moments lend simplicity to the method.<br><br>\n",
    "It turns out that the very attribute that makes the variance so convenient is that variance is also a cumulant. What are cumulants? They are simply a special type of moment that adds when two distributions are convolved with each other. In otherwords, if two PCH's are convolved with each other, the resulting variance will be the sum of the original two variances. We will not define cumulants here but rather defer to the Wikipedia article linked below. But what about that pesky poisson shot noise that made us subtract the intensity from the variance? It turns out that a special type of statistic termed a factorial cumulant eliminates shot noise. In otherwords, the factorial cumulant of the photon counting data is equal to the cumulant of the underlying intensity distribution minus the shot noise. All that remains is to define the factorial cumulants in terms of the data and the molecular number and brightness:<br>\n",
    "<img src=\"images/pch/image032.gif\"><br>\n",
    "<img src=\"images/pch/image034.gif\"><br>\n",
    "<img src=\"images/pch/image036.gif\"><br>\n",
    "<img src=\"images/pch/image038.gif\"><br>\n",
    "Note that we have used the &lt;&delta;x<sup>n</sup>&gt; to denote the nth central moment of the intensity histogram. If n=2 this is the variance. The &gamma; functions used here are defined similarly to the &gamma; function used previously:<br>\n",
    "<img src=\"images/pch/image040.gif\"><br>\n",
    "These formulas can be used in several ways. Firstly, they can be used to derive the N&amp;B equations shown above. Secondly, given four factorial cumulants, one can derive expressions for the brightness and number of two species. Alternatively, one can derive variances for the factorial cumulants and fit them in a similar way to the PCH fitting discussed previously. Please see the reference below for more details.<br><br>\n",
    "### References:\n",
    "<span>M&uuml;ller, J. D. (2004) Cumulant analysis in fluorescence fluctuation spectroscopy. Biophys. J. <strong>86</strong>:3981-3992.</span><br>\n",
    "<a href=\"http://en.wikipedia.org/wiki/Cumulant\">Wikipedia: Cumulants</a>"
   ]
  },
  {
   "cell_type": "markdown",
   "id": "8840ea19-57e9-4fcd-80fd-a1b590fc2dbf",
   "metadata": {},
   "source": [
    "# Time Binning of Fluorescence Histograms\n",
    "\n",
    "I have noted several times throughout this tutorial that the data must be sampled at a rate faster than the diffusion time of the molecule for appropriate analysis of brightness data. This limitation has led to the quantitative analysis of cumulants and intensity histograms as a function of sampling time. This analysis has been referred to as TIFCA (Time Integrated Fluorescence Cumulant Analysis), FIMDA (Fluorescence Intensity Multiple Distribution Analysis), and PCMH (Photon Counting Multiple Histogram analysis). These analysis methods contain information about both the mobility of molecules and their molecular brightnesses. Unfortunately, these methods are mathematically quite complex and are heavily contaminated by detector artifacts like dead-time and afterpulsing as well as triplet dynamics. These topics have been treated quite thoroughly by the references below.<br>\n",
    "<img src=\"images/pch/image052_small.gif\" width=\"344\"><br><br>\n",
    "### References:\n",
    "<span>Palo, K., U. Mets, S. Ja&euml;ger, P. Kask, and K. Gall. (2000) Fluorescence intensity multiple distributions analysis: Concurrent determination of diffusion times and molecular brightness. Biophys. J. <strong>79</strong>:2858-2866.</span><br>\n",
    "<span>Wu, B., and J. D. M&uuml;ller. (2005) Time-integrated fluorescence cumulant analysis in fluorescence fluctuation spectroscopy. Biophys. J. <strong>89</strong>:2721-2735.</span><br>\n",
    "<span>Huang, B., T. D. Perroud, and R. N. Zare. (2004) Photon counting histogram: One-photon excitation. ChemPhysChem <strong>5</strong>:1523-1531.</span>"
   ]
  },
  {
   "cell_type": "markdown",
   "id": "71b542f9-2d61-406e-8d17-41e6445cf8cf",
   "metadata": {},
   "source": [
    "# Focal Volume Artifacts in Brightness Analysis\n",
    "\n",
    "Brightness analysis methods are strongly dependent on the shape of the PSF. The major artifacts include saturation and our of focus light. Our experience has been that judicious choice of laser power and pinhole size result in data that are amenable to brightness analysis with a 3D Gaussian PSF for confocal detection. With a 40x 1.2NA water objective, we use 5 uW of laser power at the sample and a pinhole diameter of 70 um or one airy unit as defined by Zeiss for 488 nm excitation. These parameters yeild good PCH fits for EGFP without focal volume corrections.<br><br>\n",
    "Several methods have been proposed to account for PSF artifacts. The FIDA formalism contains an abstract parameterizeable PSF which can account for artifacts. Huang, Perroud, and Zare developed correction factors for out of focus light for the PCH method. This method is now avaible through Carl Zeiss. A similar method is available through ISS. For the cumulant analysis methods, the gamma factors can be experimentally determined in order to account for PSF artifacts. It is important to note that PSF artifacts are typically indicative of non-ideal imaging parameters and may be sample and even mobility dependent. As a result, great care must be taken to ensure that correction parameters obtained with one sample are appropriate for another sample.<br><br>\n",
    "### References:\n",
    "<span>Kask, P., K. Palo, D. Ullmann, and K. Gall. (1999) Fluorescence-intensity distribution analysis and its application in biomolecular detection technology. Proc. Natl. Acad. Sci. U. S. A. <strong>96</strong>:13756-13761.</span><br>\n",
    "<span>Huang, B., T. D. Perroud, and R. N. Zare. (2004) Photon counting histogram: One-photon excitation. ChemPhysChem <strong>5</strong>:1523-1531.</span><br>\n",
    "<span>M&uuml;ller, J. D. (2004) Cumulant analysis in fluorescence fluctuation spectroscopy. Biophys. J. <strong>86</strong>:3981-3992.</span>"
   ]
  },
  {
   "cell_type": "markdown",
   "id": "6596f782-d685-4004-8293-2e6196d18ec1",
   "metadata": {},
   "source": [
    "# Dual Color FCS Amplitudes\n",
    "\n",
    "Given the utility of brightness methods for analysis of homo-oligomerization, it is of interest to extend these to hetero interactions. This analysis is equivalent to the dual color FCS methods mentioned before. We define the dual color brightness as follows:<br>\n",
    "<img src=\"images/pch/image042.gif\"><br>\n",
    "Note that this equation along with the single color brightness equation contains the same information as the dual color fcs amplitudes. In all there are five pieces of information that can be gleaned from dual color FCS or brightness measurements: green brightness, red brightness, dual color brightness, green intensity, and red intensity. Once these five pieces of information are obtained, one can calculate five parameters. For example, if the stoichiometry of the complex and the bleedthrough percentage are known, the number of unbound and bound molecules can be calculated as well as the brightness of the unbound red and green species. Alternatively, if the brightnesses of the red and green unbound species are known along with the bleedthrough percentage, the stoichiometry of the complex can be determined. Unfortunately, these analyses can be somewhat daunting. We have created several <a href=\"NBccCalculator2.html\">online calculators</a> to aid in these calibrations. If there are multiple complexes, the analysis gets more complicated but at the end, five pieces of information can be gleaned from the analysis.<br>"
   ]
  },
  {
   "cell_type": "markdown",
   "id": "860a9488-5518-4bb9-a7e5-c7c2a97ccd57",
   "metadata": {},
   "source": [
    "# Dual Color N&amp;B Analysis</H2><br>\n",
    "\n",
    "The relationship between dual color FCS and dual color N&amp;B is much simpler than the relationship between the single color versions of these techniques. This is because the covariance is independent of shot noise as described above. Therefore, the average cross correlation brightness can be defined in terms of the covariance between green and red channels as follows:<br>\n",
    "<img src=\"images/pch/image044.gif\"><br>\n",
    "Further analysis proceeds equivalently to the FCS amplitudes analysis.<br><br>\n",
    "<strong>References:</strong><br>\n",
    "<span id=\"LinkLiterature\">Digman, M. A., P. W. Wiseman, C. Choi, A. R. Horwitz, E. Gratton. (2009) Stoichiometry of molecular complexes at adhesions in living cells. <strong>106</strong>:2170-2175.</span><br>"
   ]
  },
  {
   "cell_type": "markdown",
   "id": "351f4bc0-973a-41b5-9cb5-386ff688318d",
   "metadata": {},
   "source": [
    "# Dual Color PCH and FIDA</H2><br>\n",
    "\n",
    "The fluorescence intensity distribution can easily be extended to two colors. This is somewhat intuitive because of its similarity to coincidence analysis from techniques like flow cytometry. For independent red and green particles, a 2D scatter plot or histogram shows high intensities along the red and green axes, but not in the region between the axes. Alternatively, for red and green particles that diffuse together, high intensities are seen in the center of the histogram--showing high correlation between red and green intensity. Of course real fcs data is much more difficult to interpret than this. Nevertheless, the 2D histogram can be fit to obtain the numbers and stoichiometries of green, red, and bound species. The 2D PCH fitting function can be obtained from the normal PCH fitting function as follows:<br>\n",
    "<img src=\"images/pch/image048.gif\"><br>\n",
    "As with normal PCH, multiple species are convolved with one another to obtain the final fitting histogram. The weighting and chi squared functions are defined the same as in PCH.<br><br>\n",
    "Currently there are no comercial software programs for the analysis of dual color PCH data. Please refer to our software page for a free (non-comercial) analysis program for PCH and dual color PCH data.<br><br>\n",
    "<strong>References:</strong><br>\n",
    "<span id=\"LinkLiterature\">Kask, P., K. Palo, N. Fay, L. Brand, U. Mets, D. Ullmann, J. Jungmann, J. Pschorr, and K. Gall. (2000) Two-Dimensional Fluorescence Intensity Distribution Analysis: Theory and Applications. Biophys. J. <strong>78</strong>:1703-1713.</span><br>\n",
    "<span id=\"LinkLiterature\">Chen, Y., M. Tekmen, L. Hillesheim, J. Skinner, B. Wu, and J. D. M&uuml;ller. (2005) Dual-Color Photon-Counting Histogram. Biophys. J. <strong>88</strong>:2177-2192.</span><br>\n",
    "<span id=\"LinkLiterature\">Wu, B., Y. Chen, and J. D. Mueller. (2006) Dual-Color Time-Integrated Fluorescence Cumulant Analysis. Biophys. J. <strong>91</strong>:2687-2698.</span>"
   ]
  },
  {
   "cell_type": "code",
   "execution_count": null,
   "id": "8218bf97-6384-426a-a758-0c30c1d88106",
   "metadata": {},
   "outputs": [],
   "source": []
  }
 ],
 "metadata": {
  "kernelspec": {
   "display_name": "jayenv",
   "language": "python",
   "name": "jayenv"
  },
  "language_info": {
   "codemirror_mode": {
    "name": "ipython",
    "version": 3
   },
   "file_extension": ".py",
   "mimetype": "text/x-python",
   "name": "python",
   "nbconvert_exporter": "python",
   "pygments_lexer": "ipython3",
   "version": "3.11.11"
  }
 },
 "nbformat": 4,
 "nbformat_minor": 5
}
